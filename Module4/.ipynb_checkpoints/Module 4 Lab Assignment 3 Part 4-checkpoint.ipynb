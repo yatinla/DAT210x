{
 "cells": [
  {
   "cell_type": "code",
   "execution_count": 1,
   "metadata": {
    "collapsed": true
   },
   "outputs": [],
   "source": [
    "# %load assignment2.py\n",
    "import pandas as pd\n",
    "import matplotlib.pyplot as plt\n",
    "import matplotlib\n",
    "import assignment2_helper as helper\n",
    "from sklearn.decomposition import PCA\n",
    "%matplotlib inline"
   ]
  },
  {
   "cell_type": "code",
   "execution_count": 2,
   "metadata": {
    "collapsed": true
   },
   "outputs": [],
   "source": [
    "# Look pretty...\n",
    "matplotlib.style.use('ggplot')"
   ]
  },
  {
   "cell_type": "markdown",
   "metadata": {},
   "source": [
    "## For this part of the lab, `scaleFeatures` is `True`"
   ]
  },
  {
   "cell_type": "code",
   "execution_count": 18,
   "metadata": {
    "collapsed": true
   },
   "outputs": [],
   "source": [
    "# Do * NOT * alter this line, until instructed!\n",
    "scaleFeatures = True"
   ]
  },
  {
   "cell_type": "code",
   "execution_count": 30,
   "metadata": {
    "collapsed": false
   },
   "outputs": [
    {
     "name": "stdout",
     "output_type": "stream",
     "text": [
      "(400, 26)\n"
     ]
    }
   ],
   "source": [
    "# TODO: Load up the dataset and remove any and all\n",
    "# Rows that have a nan. You should be a pro at this\n",
    "# by now ;-)\n",
    "#\n",
    "# .. your code here ..\n",
    "df = pd.read_csv('Datasets/kidney_disease.csv')\n",
    "print df.shape"
   ]
  },
  {
   "cell_type": "code",
   "execution_count": 31,
   "metadata": {
    "collapsed": false
   },
   "outputs": [
    {
     "data": {
      "text/html": [
       "<div>\n",
       "<table border=\"1\" class=\"dataframe\">\n",
       "  <thead>\n",
       "    <tr style=\"text-align: right;\">\n",
       "      <th></th>\n",
       "      <th>id</th>\n",
       "      <th>age</th>\n",
       "      <th>bp</th>\n",
       "      <th>sg</th>\n",
       "      <th>al</th>\n",
       "      <th>su</th>\n",
       "      <th>rbc</th>\n",
       "      <th>pc</th>\n",
       "      <th>pcc</th>\n",
       "      <th>ba</th>\n",
       "      <th>...</th>\n",
       "      <th>pcv</th>\n",
       "      <th>wc</th>\n",
       "      <th>rc</th>\n",
       "      <th>htn</th>\n",
       "      <th>dm</th>\n",
       "      <th>cad</th>\n",
       "      <th>appet</th>\n",
       "      <th>pe</th>\n",
       "      <th>ane</th>\n",
       "      <th>classification</th>\n",
       "    </tr>\n",
       "  </thead>\n",
       "  <tbody>\n",
       "    <tr>\n",
       "      <th>0</th>\n",
       "      <td>0</td>\n",
       "      <td>48.0</td>\n",
       "      <td>80.0</td>\n",
       "      <td>1.020</td>\n",
       "      <td>1.0</td>\n",
       "      <td>0.0</td>\n",
       "      <td>NaN</td>\n",
       "      <td>normal</td>\n",
       "      <td>notpresent</td>\n",
       "      <td>notpresent</td>\n",
       "      <td>...</td>\n",
       "      <td>44</td>\n",
       "      <td>7800</td>\n",
       "      <td>5.2</td>\n",
       "      <td>yes</td>\n",
       "      <td>yes</td>\n",
       "      <td>no</td>\n",
       "      <td>good</td>\n",
       "      <td>no</td>\n",
       "      <td>no</td>\n",
       "      <td>ckd</td>\n",
       "    </tr>\n",
       "    <tr>\n",
       "      <th>1</th>\n",
       "      <td>1</td>\n",
       "      <td>7.0</td>\n",
       "      <td>50.0</td>\n",
       "      <td>1.020</td>\n",
       "      <td>4.0</td>\n",
       "      <td>0.0</td>\n",
       "      <td>NaN</td>\n",
       "      <td>normal</td>\n",
       "      <td>notpresent</td>\n",
       "      <td>notpresent</td>\n",
       "      <td>...</td>\n",
       "      <td>38</td>\n",
       "      <td>6000</td>\n",
       "      <td>NaN</td>\n",
       "      <td>no</td>\n",
       "      <td>no</td>\n",
       "      <td>no</td>\n",
       "      <td>good</td>\n",
       "      <td>no</td>\n",
       "      <td>no</td>\n",
       "      <td>ckd</td>\n",
       "    </tr>\n",
       "    <tr>\n",
       "      <th>2</th>\n",
       "      <td>2</td>\n",
       "      <td>62.0</td>\n",
       "      <td>80.0</td>\n",
       "      <td>1.010</td>\n",
       "      <td>2.0</td>\n",
       "      <td>3.0</td>\n",
       "      <td>normal</td>\n",
       "      <td>normal</td>\n",
       "      <td>notpresent</td>\n",
       "      <td>notpresent</td>\n",
       "      <td>...</td>\n",
       "      <td>31</td>\n",
       "      <td>7500</td>\n",
       "      <td>NaN</td>\n",
       "      <td>no</td>\n",
       "      <td>yes</td>\n",
       "      <td>no</td>\n",
       "      <td>poor</td>\n",
       "      <td>no</td>\n",
       "      <td>yes</td>\n",
       "      <td>ckd</td>\n",
       "    </tr>\n",
       "    <tr>\n",
       "      <th>3</th>\n",
       "      <td>3</td>\n",
       "      <td>48.0</td>\n",
       "      <td>70.0</td>\n",
       "      <td>1.005</td>\n",
       "      <td>4.0</td>\n",
       "      <td>0.0</td>\n",
       "      <td>normal</td>\n",
       "      <td>abnormal</td>\n",
       "      <td>present</td>\n",
       "      <td>notpresent</td>\n",
       "      <td>...</td>\n",
       "      <td>32</td>\n",
       "      <td>6700</td>\n",
       "      <td>3.9</td>\n",
       "      <td>yes</td>\n",
       "      <td>no</td>\n",
       "      <td>no</td>\n",
       "      <td>poor</td>\n",
       "      <td>yes</td>\n",
       "      <td>yes</td>\n",
       "      <td>ckd</td>\n",
       "    </tr>\n",
       "    <tr>\n",
       "      <th>4</th>\n",
       "      <td>4</td>\n",
       "      <td>51.0</td>\n",
       "      <td>80.0</td>\n",
       "      <td>1.010</td>\n",
       "      <td>2.0</td>\n",
       "      <td>0.0</td>\n",
       "      <td>normal</td>\n",
       "      <td>normal</td>\n",
       "      <td>notpresent</td>\n",
       "      <td>notpresent</td>\n",
       "      <td>...</td>\n",
       "      <td>35</td>\n",
       "      <td>7300</td>\n",
       "      <td>4.6</td>\n",
       "      <td>no</td>\n",
       "      <td>no</td>\n",
       "      <td>no</td>\n",
       "      <td>good</td>\n",
       "      <td>no</td>\n",
       "      <td>no</td>\n",
       "      <td>ckd</td>\n",
       "    </tr>\n",
       "  </tbody>\n",
       "</table>\n",
       "<p>5 rows × 26 columns</p>\n",
       "</div>"
      ],
      "text/plain": [
       "   id   age    bp     sg   al   su     rbc        pc         pcc          ba  \\\n",
       "0   0  48.0  80.0  1.020  1.0  0.0     NaN    normal  notpresent  notpresent   \n",
       "1   1   7.0  50.0  1.020  4.0  0.0     NaN    normal  notpresent  notpresent   \n",
       "2   2  62.0  80.0  1.010  2.0  3.0  normal    normal  notpresent  notpresent   \n",
       "3   3  48.0  70.0  1.005  4.0  0.0  normal  abnormal     present  notpresent   \n",
       "4   4  51.0  80.0  1.010  2.0  0.0  normal    normal  notpresent  notpresent   \n",
       "\n",
       "       ...        pcv    wc   rc  htn   dm  cad appet   pe  ane classification  \n",
       "0      ...         44  7800  5.2  yes  yes   no  good   no   no            ckd  \n",
       "1      ...         38  6000  NaN   no   no   no  good   no   no            ckd  \n",
       "2      ...         31  7500  NaN   no  yes   no  poor   no  yes            ckd  \n",
       "3      ...         32  6700  3.9  yes   no   no  poor  yes  yes            ckd  \n",
       "4      ...         35  7300  4.6   no   no   no  good   no   no            ckd  \n",
       "\n",
       "[5 rows x 26 columns]"
      ]
     },
     "execution_count": 31,
     "metadata": {},
     "output_type": "execute_result"
    }
   ],
   "source": [
    "df.head()"
   ]
  },
  {
   "cell_type": "code",
   "execution_count": 32,
   "metadata": {
    "collapsed": false
   },
   "outputs": [],
   "source": [
    "df.dropna(axis=0, inplace=True)"
   ]
  },
  {
   "cell_type": "code",
   "execution_count": 33,
   "metadata": {
    "collapsed": false
   },
   "outputs": [
    {
     "name": "stdout",
     "output_type": "stream",
     "text": [
      "0\n",
      "(158, 26)\n"
     ]
    }
   ],
   "source": [
    "print df.isnull().values.sum()\n",
    "print df.shape"
   ]
  },
  {
   "cell_type": "code",
   "execution_count": 34,
   "metadata": {
    "collapsed": true
   },
   "outputs": [],
   "source": [
    "# Create some color coded labels; the actual label feature\n",
    "# will be removed prior to executing PCA, since it's unsupervised.\n",
    "# You're only labeling by color so you can see the effects of PCA\n",
    "labels = ['red' if i=='ckd' else 'green' for i in df.classification]"
   ]
  },
  {
   "cell_type": "markdown",
   "metadata": {},
   "source": [
    "## Part 4 of Assignment 3\n",
    "\n",
    "Alter your code so that you only drop the id and classification columns. For the remaining 10 nominal features, properly encode them by as explained in the Feature Representation section by creating new, boolean columns using Pandas `.get_dummies()`. \n",
    "\n",
    ">You should be able to carry that out with a single line of code. \n",
    "\n",
    "Run your assignment again and see if your results have changed at all."
   ]
  },
  {
   "cell_type": "code",
   "execution_count": 35,
   "metadata": {
    "collapsed": false
   },
   "outputs": [
    {
     "data": {
      "text/plain": [
       "['id',\n",
       " 'classification',\n",
       " 'rbc',\n",
       " 'pc',\n",
       " 'pcc',\n",
       " 'ba',\n",
       " 'htn',\n",
       " 'dm',\n",
       " 'cad',\n",
       " 'appet',\n",
       " 'pe',\n",
       " 'ane']"
      ]
     },
     "execution_count": 35,
     "metadata": {},
     "output_type": "execute_result"
    }
   ],
   "source": [
    "nominal_features = ['id', 'classification', 'rbc', 'pc', 'pcc', 'ba', 'htn', 'dm', 'cad', 'appet', 'pe', 'ane']\n",
    "nominal_features"
   ]
  },
  {
   "cell_type": "code",
   "execution_count": 36,
   "metadata": {
    "collapsed": true
   },
   "outputs": [],
   "source": [
    "nominal_features.remove('id')\n",
    "nominal_features.remove('classification')"
   ]
  },
  {
   "cell_type": "code",
   "execution_count": 37,
   "metadata": {
    "collapsed": false
   },
   "outputs": [],
   "source": [
    "df = df.drop(labels=['id', 'classification'], axis=1)"
   ]
  },
  {
   "cell_type": "code",
   "execution_count": 38,
   "metadata": {
    "collapsed": false
   },
   "outputs": [
    {
     "data": {
      "text/plain": [
       "(158, 24)"
      ]
     },
     "execution_count": 38,
     "metadata": {},
     "output_type": "execute_result"
    }
   ],
   "source": [
    "df.shape"
   ]
  },
  {
   "cell_type": "code",
   "execution_count": 39,
   "metadata": {
    "collapsed": false
   },
   "outputs": [],
   "source": [
    "df = pd.get_dummies(df, columns=nominal_features)"
   ]
  },
  {
   "cell_type": "code",
   "execution_count": 40,
   "metadata": {
    "collapsed": false
   },
   "outputs": [
    {
     "data": {
      "text/html": [
       "<div>\n",
       "<table border=\"1\" class=\"dataframe\">\n",
       "  <thead>\n",
       "    <tr style=\"text-align: right;\">\n",
       "      <th></th>\n",
       "      <th>age</th>\n",
       "      <th>bp</th>\n",
       "      <th>sg</th>\n",
       "      <th>al</th>\n",
       "      <th>su</th>\n",
       "      <th>bgr</th>\n",
       "      <th>bu</th>\n",
       "      <th>sc</th>\n",
       "      <th>sod</th>\n",
       "      <th>pot</th>\n",
       "      <th>...</th>\n",
       "      <th>dm_no</th>\n",
       "      <th>dm_yes</th>\n",
       "      <th>cad_no</th>\n",
       "      <th>cad_yes</th>\n",
       "      <th>appet_good</th>\n",
       "      <th>appet_poor</th>\n",
       "      <th>pe_no</th>\n",
       "      <th>pe_yes</th>\n",
       "      <th>ane_no</th>\n",
       "      <th>ane_yes</th>\n",
       "    </tr>\n",
       "  </thead>\n",
       "  <tbody>\n",
       "    <tr>\n",
       "      <th>3</th>\n",
       "      <td>48.0</td>\n",
       "      <td>70.0</td>\n",
       "      <td>1.005</td>\n",
       "      <td>4.0</td>\n",
       "      <td>0.0</td>\n",
       "      <td>117.0</td>\n",
       "      <td>56.0</td>\n",
       "      <td>3.8</td>\n",
       "      <td>111.0</td>\n",
       "      <td>2.5</td>\n",
       "      <td>...</td>\n",
       "      <td>1.0</td>\n",
       "      <td>0.0</td>\n",
       "      <td>1.0</td>\n",
       "      <td>0.0</td>\n",
       "      <td>0.0</td>\n",
       "      <td>1.0</td>\n",
       "      <td>0.0</td>\n",
       "      <td>1.0</td>\n",
       "      <td>0.0</td>\n",
       "      <td>1.0</td>\n",
       "    </tr>\n",
       "    <tr>\n",
       "      <th>9</th>\n",
       "      <td>53.0</td>\n",
       "      <td>90.0</td>\n",
       "      <td>1.020</td>\n",
       "      <td>2.0</td>\n",
       "      <td>0.0</td>\n",
       "      <td>70.0</td>\n",
       "      <td>107.0</td>\n",
       "      <td>7.2</td>\n",
       "      <td>114.0</td>\n",
       "      <td>3.7</td>\n",
       "      <td>...</td>\n",
       "      <td>0.0</td>\n",
       "      <td>1.0</td>\n",
       "      <td>1.0</td>\n",
       "      <td>0.0</td>\n",
       "      <td>0.0</td>\n",
       "      <td>1.0</td>\n",
       "      <td>1.0</td>\n",
       "      <td>0.0</td>\n",
       "      <td>0.0</td>\n",
       "      <td>1.0</td>\n",
       "    </tr>\n",
       "    <tr>\n",
       "      <th>11</th>\n",
       "      <td>63.0</td>\n",
       "      <td>70.0</td>\n",
       "      <td>1.010</td>\n",
       "      <td>3.0</td>\n",
       "      <td>0.0</td>\n",
       "      <td>380.0</td>\n",
       "      <td>60.0</td>\n",
       "      <td>2.7</td>\n",
       "      <td>131.0</td>\n",
       "      <td>4.2</td>\n",
       "      <td>...</td>\n",
       "      <td>0.0</td>\n",
       "      <td>1.0</td>\n",
       "      <td>1.0</td>\n",
       "      <td>0.0</td>\n",
       "      <td>0.0</td>\n",
       "      <td>1.0</td>\n",
       "      <td>0.0</td>\n",
       "      <td>1.0</td>\n",
       "      <td>1.0</td>\n",
       "      <td>0.0</td>\n",
       "    </tr>\n",
       "    <tr>\n",
       "      <th>14</th>\n",
       "      <td>68.0</td>\n",
       "      <td>80.0</td>\n",
       "      <td>1.010</td>\n",
       "      <td>3.0</td>\n",
       "      <td>2.0</td>\n",
       "      <td>157.0</td>\n",
       "      <td>90.0</td>\n",
       "      <td>4.1</td>\n",
       "      <td>130.0</td>\n",
       "      <td>6.4</td>\n",
       "      <td>...</td>\n",
       "      <td>0.0</td>\n",
       "      <td>1.0</td>\n",
       "      <td>0.0</td>\n",
       "      <td>1.0</td>\n",
       "      <td>0.0</td>\n",
       "      <td>1.0</td>\n",
       "      <td>0.0</td>\n",
       "      <td>1.0</td>\n",
       "      <td>1.0</td>\n",
       "      <td>0.0</td>\n",
       "    </tr>\n",
       "    <tr>\n",
       "      <th>20</th>\n",
       "      <td>61.0</td>\n",
       "      <td>80.0</td>\n",
       "      <td>1.015</td>\n",
       "      <td>2.0</td>\n",
       "      <td>0.0</td>\n",
       "      <td>173.0</td>\n",
       "      <td>148.0</td>\n",
       "      <td>3.9</td>\n",
       "      <td>135.0</td>\n",
       "      <td>5.2</td>\n",
       "      <td>...</td>\n",
       "      <td>0.0</td>\n",
       "      <td>1.0</td>\n",
       "      <td>0.0</td>\n",
       "      <td>1.0</td>\n",
       "      <td>0.0</td>\n",
       "      <td>1.0</td>\n",
       "      <td>0.0</td>\n",
       "      <td>1.0</td>\n",
       "      <td>0.0</td>\n",
       "      <td>1.0</td>\n",
       "    </tr>\n",
       "  </tbody>\n",
       "</table>\n",
       "<p>5 rows × 34 columns</p>\n",
       "</div>"
      ],
      "text/plain": [
       "     age    bp     sg   al   su    bgr     bu   sc    sod  pot   ...     \\\n",
       "3   48.0  70.0  1.005  4.0  0.0  117.0   56.0  3.8  111.0  2.5   ...      \n",
       "9   53.0  90.0  1.020  2.0  0.0   70.0  107.0  7.2  114.0  3.7   ...      \n",
       "11  63.0  70.0  1.010  3.0  0.0  380.0   60.0  2.7  131.0  4.2   ...      \n",
       "14  68.0  80.0  1.010  3.0  2.0  157.0   90.0  4.1  130.0  6.4   ...      \n",
       "20  61.0  80.0  1.015  2.0  0.0  173.0  148.0  3.9  135.0  5.2   ...      \n",
       "\n",
       "    dm_no dm_yes cad_no cad_yes  appet_good  appet_poor  pe_no  pe_yes  \\\n",
       "3     1.0    0.0    1.0     0.0         0.0         1.0    0.0     1.0   \n",
       "9     0.0    1.0    1.0     0.0         0.0         1.0    1.0     0.0   \n",
       "11    0.0    1.0    1.0     0.0         0.0         1.0    0.0     1.0   \n",
       "14    0.0    1.0    0.0     1.0         0.0         1.0    0.0     1.0   \n",
       "20    0.0    1.0    0.0     1.0         0.0         1.0    0.0     1.0   \n",
       "\n",
       "    ane_no  ane_yes  \n",
       "3      0.0      1.0  \n",
       "9      0.0      1.0  \n",
       "11     1.0      0.0  \n",
       "14     1.0      0.0  \n",
       "20     0.0      1.0  \n",
       "\n",
       "[5 rows x 34 columns]"
      ]
     },
     "execution_count": 40,
     "metadata": {},
     "output_type": "execute_result"
    }
   ],
   "source": [
    "df.head()"
   ]
  },
  {
   "cell_type": "markdown",
   "metadata": {},
   "source": [
    "### 2.\n",
    "Right after you print out your dataset's dtypes, add an exit() so you can inspect the results. Does everything look like it should / properly numeric? If not, make code changes to coerce the remaining column(s)."
   ]
  },
  {
   "cell_type": "code",
   "execution_count": 41,
   "metadata": {
    "collapsed": false
   },
   "outputs": [
    {
     "data": {
      "text/plain": [
       "[('age', dtype('float64')),\n",
       " ('bp', dtype('float64')),\n",
       " ('sg', dtype('float64')),\n",
       " ('al', dtype('float64')),\n",
       " ('su', dtype('float64')),\n",
       " ('bgr', dtype('float64')),\n",
       " ('bu', dtype('float64')),\n",
       " ('sc', dtype('float64')),\n",
       " ('sod', dtype('float64')),\n",
       " ('pot', dtype('float64')),\n",
       " ('hemo', dtype('float64')),\n",
       " ('pcv', dtype('O')),\n",
       " ('wc', dtype('O')),\n",
       " ('rc', dtype('O')),\n",
       " ('rbc_abnormal', dtype('float64')),\n",
       " ('rbc_normal', dtype('float64')),\n",
       " ('pc_abnormal', dtype('float64')),\n",
       " ('pc_normal', dtype('float64')),\n",
       " ('pcc_notpresent', dtype('float64')),\n",
       " ('pcc_present', dtype('float64')),\n",
       " ('ba_notpresent', dtype('float64')),\n",
       " ('ba_present', dtype('float64')),\n",
       " ('htn_no', dtype('float64')),\n",
       " ('htn_yes', dtype('float64')),\n",
       " ('dm_no', dtype('float64')),\n",
       " ('dm_yes', dtype('float64')),\n",
       " ('cad_no', dtype('float64')),\n",
       " ('cad_yes', dtype('float64')),\n",
       " ('appet_good', dtype('float64')),\n",
       " ('appet_poor', dtype('float64')),\n",
       " ('pe_no', dtype('float64')),\n",
       " ('pe_yes', dtype('float64')),\n",
       " ('ane_no', dtype('float64')),\n",
       " ('ane_yes', dtype('float64'))]"
      ]
     },
     "execution_count": 41,
     "metadata": {},
     "output_type": "execute_result"
    }
   ],
   "source": [
    "[(c, df[c].dtype) for c in df.columns]"
   ]
  },
  {
   "cell_type": "code",
   "execution_count": 42,
   "metadata": {
    "collapsed": false
   },
   "outputs": [],
   "source": [
    "df.pcv = df.pcv.astype('int')"
   ]
  },
  {
   "cell_type": "code",
   "execution_count": 43,
   "metadata": {
    "collapsed": false
   },
   "outputs": [],
   "source": [
    "df.wc = df.wc.astype('int')"
   ]
  },
  {
   "cell_type": "code",
   "execution_count": 44,
   "metadata": {
    "collapsed": false
   },
   "outputs": [],
   "source": [
    "df.rc = df.rc.astype('float')"
   ]
  },
  {
   "cell_type": "code",
   "execution_count": 45,
   "metadata": {
    "collapsed": false
   },
   "outputs": [
    {
     "data": {
      "text/plain": [
       "[('age', dtype('float64')),\n",
       " ('bp', dtype('float64')),\n",
       " ('sg', dtype('float64')),\n",
       " ('al', dtype('float64')),\n",
       " ('su', dtype('float64')),\n",
       " ('bgr', dtype('float64')),\n",
       " ('bu', dtype('float64')),\n",
       " ('sc', dtype('float64')),\n",
       " ('sod', dtype('float64')),\n",
       " ('pot', dtype('float64')),\n",
       " ('hemo', dtype('float64')),\n",
       " ('pcv', dtype('int64')),\n",
       " ('wc', dtype('int64')),\n",
       " ('rc', dtype('float64')),\n",
       " ('rbc_abnormal', dtype('float64')),\n",
       " ('rbc_normal', dtype('float64')),\n",
       " ('pc_abnormal', dtype('float64')),\n",
       " ('pc_normal', dtype('float64')),\n",
       " ('pcc_notpresent', dtype('float64')),\n",
       " ('pcc_present', dtype('float64')),\n",
       " ('ba_notpresent', dtype('float64')),\n",
       " ('ba_present', dtype('float64')),\n",
       " ('htn_no', dtype('float64')),\n",
       " ('htn_yes', dtype('float64')),\n",
       " ('dm_no', dtype('float64')),\n",
       " ('dm_yes', dtype('float64')),\n",
       " ('cad_no', dtype('float64')),\n",
       " ('cad_yes', dtype('float64')),\n",
       " ('appet_good', dtype('float64')),\n",
       " ('appet_poor', dtype('float64')),\n",
       " ('pe_no', dtype('float64')),\n",
       " ('pe_yes', dtype('float64')),\n",
       " ('ane_no', dtype('float64')),\n",
       " ('ane_yes', dtype('float64'))]"
      ]
     },
     "execution_count": 45,
     "metadata": {},
     "output_type": "execute_result"
    }
   ],
   "source": [
    "[(c, df[c].dtype) for c in df.columns]"
   ]
  },
  {
   "cell_type": "code",
   "execution_count": 78,
   "metadata": {
    "collapsed": false
   },
   "outputs": [
    {
     "name": "stdout",
     "output_type": "stream",
     "text": [
      "New Variances:\n",
      "age               1.006369\n",
      "bp                1.006369\n",
      "sg                1.006369\n",
      "al                1.006369\n",
      "su                1.006369\n",
      "bgr               1.006369\n",
      "bu                1.006369\n",
      "sc                1.006369\n",
      "sod               1.006369\n",
      "pot               1.006369\n",
      "hemo              1.006369\n",
      "pcv               1.006369\n",
      "wc                1.006369\n",
      "rc                1.006369\n",
      "rbc_abnormal      1.006369\n",
      "rbc_normal        1.006369\n",
      "pc_abnormal       1.006369\n",
      "pc_normal         1.006369\n",
      "pcc_notpresent    1.006369\n",
      "pcc_present       1.006369\n",
      "ba_notpresent     1.006369\n",
      "ba_present        1.006369\n",
      "htn_no            1.006369\n",
      "htn_yes           1.006369\n",
      "dm_no             1.006369\n",
      "dm_yes            1.006369\n",
      "cad_no            1.006369\n",
      "cad_yes           1.006369\n",
      "appet_good        1.006369\n",
      "appet_poor        1.006369\n",
      "pe_no             1.006369\n",
      "pe_yes            1.006369\n",
      "ane_no            1.006369\n",
      "ane_yes           1.006369\n",
      "dtype: float64\n",
      "New Describe:\n",
      "                age          bp            sg            al            su  \\\n",
      "count  1.580000e+02  158.000000  1.580000e+02  1.580000e+02  1.580000e+02   \n",
      "mean   2.248553e-17    0.000000  4.497106e-17 -4.497106e-17 -2.248553e-17   \n",
      "std    1.003180e+00    1.003180  1.003180e+00  1.003180e+00  1.003180e+00   \n",
      "min   -2.817246e+00   -2.158952 -2.713365e+00 -5.661221e-01 -3.122333e-01   \n",
      "25%   -6.669624e-01   -1.261282  2.309247e-02 -5.661221e-01 -3.122333e-01   \n",
      "50%    6.057713e-02    0.534056  2.309247e-02 -5.661221e-01 -3.122333e-01   \n",
      "75%    6.749439e-01    0.534056  9.352451e-01  1.437770e-01 -3.122333e-01   \n",
      "max    2.162358e+00    3.227064  9.352451e-01  2.273474e+00  5.854375e+00   \n",
      "\n",
      "              bgr            bu          sc         sod         pot  \\\n",
      "count  158.000000  1.580000e+02  158.000000  158.000000  158.000000   \n",
      "mean     0.000000 -4.497106e-17    0.000000    0.000000    0.000000   \n",
      "std      1.003180  1.003180e+00    1.003180    1.003180    1.003180   \n",
      "min     -0.947597 -9.011706e-01   -0.583015   -3.730148   -0.616596   \n",
      "25%     -0.530506 -5.625116e-01   -0.485227   -0.515439   -0.270309   \n",
      "50%     -0.244721 -2.767680e-01   -0.354843    0.020346   -0.039450   \n",
      "75%      0.006306 -5.981458e-02   -0.191863    0.690077    0.075979   \n",
      "max      5.540492  5.427520e+00    4.241194    1.493755   12.224887   \n",
      "\n",
      "           ...              dm_no        dm_yes      cad_no     cad_yes  \\\n",
      "count      ...       1.580000e+02  1.580000e+02  158.000000  158.000000   \n",
      "mean       ...       4.497106e-17 -4.497106e-17    0.000000    0.000000   \n",
      "std        ...       1.003180e+00  1.003180e+00    1.003180    1.003180   \n",
      "min        ...      -2.154729e+00 -4.640955e-01   -3.655631   -0.273551   \n",
      "25%        ...       4.640955e-01 -4.640955e-01    0.273551   -0.273551   \n",
      "50%        ...       4.640955e-01 -4.640955e-01    0.273551   -0.273551   \n",
      "75%        ...       4.640955e-01 -4.640955e-01    0.273551   -0.273551   \n",
      "max        ...       4.640955e-01  2.154729e+00    0.273551    3.655631   \n",
      "\n",
      "       appet_good  appet_poor       pe_no      pe_yes        ane_no  \\\n",
      "count  158.000000  158.000000  158.000000  158.000000  1.580000e+02   \n",
      "mean     0.000000    0.000000    0.000000    0.000000  2.248553e-17   \n",
      "std      1.003180    1.003180    1.003180    1.003180  1.003180e+00   \n",
      "min     -2.704772   -0.369717   -2.626785   -0.380693 -2.979094e+00   \n",
      "25%      0.369717   -0.369717    0.380693   -0.380693  3.356725e-01   \n",
      "50%      0.369717   -0.369717    0.380693   -0.380693  3.356725e-01   \n",
      "75%      0.369717   -0.369717    0.380693   -0.380693  3.356725e-01   \n",
      "max      0.369717    2.704772    0.380693    2.626785  3.356725e-01   \n",
      "\n",
      "            ane_yes  \n",
      "count  1.580000e+02  \n",
      "mean  -2.248553e-17  \n",
      "std    1.003180e+00  \n",
      "min   -3.356725e-01  \n",
      "25%   -3.356725e-01  \n",
      "50%   -3.356725e-01  \n",
      "75%   -3.356725e-01  \n",
      "max    2.979094e+00  \n",
      "\n",
      "[8 rows x 34 columns]\n"
     ]
    }
   ],
   "source": [
    "# TODO: This method assumes your dataframe is called df. If it isn't,\n",
    "# make the appropriate changes. Don't alter the code in scaleFeatures()\n",
    "# just yet though!\n",
    "#\n",
    "# .. your code adjustment here ..\n",
    "if scaleFeatures: df = helper.scaleFeatures(df)"
   ]
  },
  {
   "cell_type": "code",
   "execution_count": 83,
   "metadata": {
    "collapsed": true
   },
   "outputs": [],
   "source": [
    "# TODO: Run PCA on your dataset and reduce it to 2 components\n",
    "# Ensure your PCA instance is saved in a variable called 'pca',\n",
    "# and that the results of your transformation are saved in 'T'.\n",
    "#\n",
    "# .. your code here .."
   ]
  },
  {
   "cell_type": "code",
   "execution_count": 84,
   "metadata": {
    "collapsed": false
   },
   "outputs": [
    {
     "data": {
      "text/plain": [
       "PCA(copy=True, n_components=2, whiten=False)"
      ]
     },
     "execution_count": 84,
     "metadata": {},
     "output_type": "execute_result"
    }
   ],
   "source": [
    "pca = PCA(n_components=2)\n",
    "pca.fit(df)"
   ]
  },
  {
   "cell_type": "code",
   "execution_count": 85,
   "metadata": {
    "collapsed": true
   },
   "outputs": [],
   "source": [
    "T = pca.transform(df)"
   ]
  },
  {
   "cell_type": "code",
   "execution_count": 86,
   "metadata": {
    "collapsed": false
   },
   "outputs": [
    {
     "name": "stdout",
     "output_type": "stream",
     "text": [
      "Features by importance:\n",
      "[(2.6613378875477656, 'ane_yes'), (2.6613378875477656, 'ane_no'), (2.6325256091749276, 'pcv'), (2.6234409708191477, 'hemo'), (2.607863164897555, 'dm_no'), (2.6078631648975548, 'dm_yes'), (2.6021123761412888, 'al'), (2.5809700374666087, 'htn_yes'), (2.5809700374666087, 'htn_no'), (2.476025549572935, 'pc_normal'), (2.476025549572935, 'pc_abnormal'), (2.470155689216887, 'bgr'), (2.4209187515422865, 'sc'), (2.3838811035991303, 'bu'), (2.378022069046701, 'sg'), (2.3696084135207798, 'rc'), (2.3355377505532484, 'appet_poor'), (2.335537750553248, 'appet_good'), (2.297648528614193, 'su'), (2.20254495310662, 'cad_yes'), (2.20254495310662, 'cad_no'), (2.1998269765306517, 'pe_yes'), (2.1998269765306517, 'pe_no'), (2.0984521759414, 'sod'), (1.921836375637464, 'pcc_present'), (1.921836375637464, 'pcc_notpresent'), (1.8993129843620404, 'rbc_normal'), (1.8993129843620404, 'rbc_abnormal'), (1.8310356262119432, 'ba_present'), (1.8310356262119432, 'ba_notpresent'), (1.1753662359014694, 'age'), (1.0495463905649554, 'bp'), (0.9175164405487408, 'wc'), (0.5429036019673843, 'pot')]\n"
     ]
    },
    {
     "data": {
      "image/png": "[encoded data removed]",
      "text/plain": [
       "<matplotlib.figure.Figure at 0x7f29713bfe10>"
      ]
     },
     "metadata": {},
     "output_type": "display_data"
    }
   ],
   "source": [
    "# Plot the transformed data as a scatter plot. Recall that transforming\n",
    "# the data will result in a NumPy NDArray. You can either use MatPlotLib\n",
    "# to graph it directly, or you can convert it to DataFrame and have pandas\n",
    "# do it for you.\n",
    "#\n",
    "# Since we've already demonstrated how to plot directly with MatPlotLib in\n",
    "# Module4/assignment1.py, this time we'll convert to a Pandas Dataframe.\n",
    "#\n",
    "# Since we transformed via PCA, we no longer have column names. We know we\n",
    "# are in P.C. space, so we'll just define the coordinates accordingly:\n",
    "ax = helper.drawVectors(T, pca.components_, df.columns.values, plt, scaleFeatures)\n",
    "T = pd.DataFrame(T)\n",
    "T.columns = ['component1', 'component2']\n",
    "\n",
    "T.plot.scatter(x='component1', y='component2', marker='o', c=labels, alpha=0.75, ax=ax)\n",
    "F = plt.gcf()\n",
    "F.set_size_inches(14,10)\n",
    "plt.show()"
   ]
  },
  {
   "cell_type": "markdown",
   "metadata": {},
   "source": [
    "### Question\n",
    "\n",
    "After adding in all of numeric columns, do the green, non-chronic kidney disease patients group closer together than before?\n",
    "\n",
    "> Clearly yes they do!"
   ]
  },
  {
   "cell_type": "code",
   "execution_count": 51,
   "metadata": {
    "collapsed": true
   },
   "outputs": [],
   "source": [
    "plt.show?"
   ]
  },
  {
   "cell_type": "code",
   "execution_count": 60,
   "metadata": {
    "collapsed": true
   },
   "outputs": [],
   "source": [
    "plt.gcf?"
   ]
  },
  {
   "cell_type": "code",
   "execution_count": 61,
   "metadata": {
    "collapsed": false
   },
   "outputs": [
    {
     "data": {
      "text/plain": [
       "<matplotlib.figure.Figure at 0x7f295ddbe8d0>"
      ]
     },
     "metadata": {},
     "output_type": "display_data"
    }
   ],
   "source": [
    "F = plt.gcf()"
   ]
  },
  {
   "cell_type": "code",
   "execution_count": 62,
   "metadata": {
    "collapsed": false
   },
   "outputs": [
    {
     "data": {
      "text/plain": [
       "<matplotlib.figure.Figure at 0x7f295ddbe8d0>"
      ]
     },
     "execution_count": 62,
     "metadata": {},
     "output_type": "execute_result"
    }
   ],
   "source": [
    "F"
   ]
  },
  {
   "cell_type": "code",
   "execution_count": 64,
   "metadata": {
    "collapsed": false
   },
   "outputs": [],
   "source": [
    "F.set_size_inches(8, 10)\n",
    "plt.show()"
   ]
  },
  {
   "cell_type": "code",
   "execution_count": null,
   "metadata": {
    "collapsed": true
   },
   "outputs": [],
   "source": []
  }
 ],
 "metadata": {
  "kernelspec": {
   "display_name": "Python 2",
   "language": "python",
   "name": "python2"
  },
  "language_info": {
   "codemirror_mode": {
    "name": "ipython",
    "version": 2
   },
   "file_extension": ".py",
   "mimetype": "text/x-python",
   "name": "python",
   "nbconvert_exporter": "python",
   "pygments_lexer": "ipython2",
   "version": "2.7.11"
  }
 },
 "nbformat": 4,
 "nbformat_minor": 0
}
