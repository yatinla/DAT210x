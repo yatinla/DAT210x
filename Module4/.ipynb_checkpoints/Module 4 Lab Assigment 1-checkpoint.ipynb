{
 "cells": [
  {
   "cell_type": "code",
   "execution_count": 12,
   "metadata": {
    "collapsed": false
   },
   "outputs": [],
   "source": [
    "# %load assignment1.py\n",
    "import pandas as pd\n",
    "import matplotlib.pyplot as plt\n",
    "import matplotlib\n",
    "import datetime\n",
    "from sklearn.decomposition import PCA"
   ]
  },
  {
   "cell_type": "code",
   "execution_count": 13,
   "metadata": {
    "collapsed": true
   },
   "outputs": [],
   "source": [
    "%matplotlib inline"
   ]
  },
  {
   "cell_type": "code",
   "execution_count": 14,
   "metadata": {
    "collapsed": true
   },
   "outputs": [],
   "source": [
    "from mpl_toolkits.mplot3d import Axes3D\n",
    "from plyfile import PlyData, PlyElement\n",
    "\n",
    "\n",
    "# Every 100 data samples, we save 1. If things run too\n",
    "# slow, try increasing this number. If things run too fast,\n",
    "# try decreasing it... =)\n",
    "reduce_factor = 100\n",
    "\n",
    "\n",
    "# Look pretty...\n",
    "matplotlib.style.use('ggplot')\n",
    "\n",
    "\n",
    "# Load up the scanned armadillo\n",
    "plyfile = PlyData.read('Datasets/stanford_armadillo.ply')\n",
    "armadillo = pd.DataFrame({\n",
    "  'x':plyfile['vertex']['z'][::reduce_factor],\n",
    "  'y':plyfile['vertex']['x'][::reduce_factor],\n",
    "  'z':plyfile['vertex']['y'][::reduce_factor]\n",
    "})"
   ]
  },
  {
   "cell_type": "code",
   "execution_count": 15,
   "metadata": {
    "collapsed": false
   },
   "outputs": [
    {
     "data": {
      "text/plain": [
       "100"
      ]
     },
     "execution_count": 15,
     "metadata": {},
     "output_type": "execute_result"
    }
   ],
   "source": [
    "reduce_factor"
   ]
  },
  {
   "cell_type": "code",
   "execution_count": 16,
   "metadata": {
    "collapsed": false
   },
   "outputs": [
    {
     "data": {
      "text/html": [
       "<div>\n",
       "<table border=\"1\" class=\"dataframe\">\n",
       "  <thead>\n",
       "    <tr style=\"text-align: right;\">\n",
       "      <th></th>\n",
       "      <th>x</th>\n",
       "      <th>y</th>\n",
       "      <th>z</th>\n",
       "    </tr>\n",
       "  </thead>\n",
       "  <tbody>\n",
       "    <tr>\n",
       "      <th>0</th>\n",
       "      <td>27.283239</td>\n",
       "      <td>5.894578</td>\n",
       "      <td>11.788401</td>\n",
       "    </tr>\n",
       "    <tr>\n",
       "      <th>1</th>\n",
       "      <td>-56.153477</td>\n",
       "      <td>-54.866692</td>\n",
       "      <td>66.677132</td>\n",
       "    </tr>\n",
       "    <tr>\n",
       "      <th>2</th>\n",
       "      <td>-55.619434</td>\n",
       "      <td>-55.855236</td>\n",
       "      <td>67.534760</td>\n",
       "    </tr>\n",
       "    <tr>\n",
       "      <th>3</th>\n",
       "      <td>28.784435</td>\n",
       "      <td>23.476126</td>\n",
       "      <td>-31.522230</td>\n",
       "    </tr>\n",
       "    <tr>\n",
       "      <th>4</th>\n",
       "      <td>-54.396542</td>\n",
       "      <td>-49.803776</td>\n",
       "      <td>75.316780</td>\n",
       "    </tr>\n",
       "  </tbody>\n",
       "</table>\n",
       "</div>"
      ],
      "text/plain": [
       "           x          y          z\n",
       "0  27.283239   5.894578  11.788401\n",
       "1 -56.153477 -54.866692  66.677132\n",
       "2 -55.619434 -55.855236  67.534760\n",
       "3  28.784435  23.476126 -31.522230\n",
       "4 -54.396542 -49.803776  75.316780"
      ]
     },
     "execution_count": 16,
     "metadata": {},
     "output_type": "execute_result"
    }
   ],
   "source": [
    "armadillo.head()"
   ]
  },
  {
   "cell_type": "code",
   "execution_count": 17,
   "metadata": {
    "collapsed": false
   },
   "outputs": [
    {
     "data": {
      "text/plain": [
       "1730"
      ]
     },
     "execution_count": 17,
     "metadata": {},
     "output_type": "execute_result"
    }
   ],
   "source": [
    "len(armadillo)"
   ]
  },
  {
   "cell_type": "code",
   "execution_count": null,
   "metadata": {
    "collapsed": true
   },
   "outputs": [],
   "source": [
    "def do_PCA(armadillo):\n",
    "    # TODO: Write code to import the libraries required for PCA.\n",
    "    # Then, train your PCA on the armadillo dataframe. Finally,\n",
    "    # drop one dimension (reduce it down to 2D) and project the\n",
    "    # armadillo down to the 2D principal component feature space.\n",
    "    #\n",
    "    # NOTE: Be sure to RETURN your projected armadillo! \n",
    "    # (This projection is actually stored in a NumPy NDArray and\n",
    "    # not a Pandas dataframe, which is something Pandas does for\n",
    "    # you automatically. =)\n",
    "    #\n",
    "    # .. your code here ..\n",
    "    pca = PCA(n_components=2)\n",
    "    pca.fit(armadillo)\n",
    "    return pca.transform(armadillo)\n",
    "\n",
    "\n",
    "def do_RandomizedPCA(armadillo):\n",
    "    #\n",
    "    # TODO: Write code to import the libraries required for\n",
    "    # RandomizedPCA. Then, train your RandomizedPCA on the armadillo\n",
    "    # dataframe. Finally, drop one dimension (reduce it down to 2D)\n",
    "    # and project the armadillo down to the 2D principal component\n",
    "    # feature space.\n",
    "    #\n",
    "    # NOTE: Be sure to RETURN your projected armadillo! \n",
    "    # (This projection is actually stored in a NumPy NDArray and\n",
    "    # not a Pandas dataframe, which is something Pandas does for\n",
    "    # you automatically. =)\n",
    "    #\n",
    "    # .. your code here ..\n",
    "\n",
    "    return None\n",
    "\n",
    "\n",
    "\n",
    "# Render the Original Armadillo\n",
    "fig = plt.figure()\n",
    "ax = fig.add_subplot(111, projection='3d')\n",
    "ax.set_title('Armadillo 3D')\n",
    "ax.set_xlabel('X')\n",
    "ax.set_ylabel('Y')\n",
    "ax.set_zlabel('Z')\n",
    "ax.scatter(armadillo.x, armadillo.y, armadillo.z, c='green', marker='.', alpha=0.75)\n",
    "\n",
    "\n",
    "\n",
    "# Time the execution of PCA 5000x\n",
    "t1 = datetime.datetime.now()\n",
    "for i in range(5000): pca = do_PCA(armadillo)\n",
    "time_delta = datetime.datetime.now() - t1\n",
    "\n",
    "# Render the newly transformed PCA armadillo!\n",
    "if not pca is None:\n",
    "  fig = plt.figure()\n",
    "  ax = fig.add_subplot(111)\n",
    "  ax.set_title('PCA, build time: ' + str(time_delta))\n",
    "  ax.scatter(pca[:,0], pca[:,1], c='blue', marker='.', alpha=0.75)\n",
    "\n",
    "\n",
    "\n",
    "# Time the execution of rPCA 5000x\n",
    "t1 = datetime.datetime.now()\n",
    "for i in range(5000): rpca = do_RandomizedPCA(armadillo)\n",
    "time_delta = datetime.datetime.now() - t1\n",
    "\n",
    "# Render the newly transformed RandomizedPCA armadillo!\n",
    "if not rpca is None:\n",
    "  fig = plt.figure()\n",
    "  ax = fig.add_subplot(111)\n",
    "  ax.set_title('RandomizedPCA, build time: ' + str(time_delta))\n",
    "  ax.scatter(rpca[:,0], rpca[:,1], c='red', marker='.', alpha=0.75)\n",
    "\n",
    "\n",
    "plt.show()"
   ]
  },
  {
   "cell_type": "code",
   "execution_count": null,
   "metadata": {
    "collapsed": true
   },
   "outputs": [],
   "source": []
  },
  {
   "cell_type": "code",
   "execution_count": null,
   "metadata": {
    "collapsed": true
   },
   "outputs": [],
   "source": []
  }
 ],
 "metadata": {
  "kernelspec": {
   "display_name": "Python 2",
   "language": "python",
   "name": "python2"
  },
  "language_info": {
   "codemirror_mode": {
    "name": "ipython",
    "version": 2
   },
   "file_extension": ".py",
   "mimetype": "text/x-python",
   "name": "python",
   "nbconvert_exporter": "python",
   "pygments_lexer": "ipython2",
   "version": "2.7.11"
  }
 },
 "nbformat": 4,
 "nbformat_minor": 1
}
