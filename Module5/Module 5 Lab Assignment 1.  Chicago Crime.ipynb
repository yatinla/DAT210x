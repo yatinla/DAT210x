{
 "cells": [
  {
   "cell_type": "code",
   "execution_count": 2,
   "metadata": {
    "collapsed": true
   },
   "outputs": [],
   "source": [
    "import matplotlib.pyplot as plt\n",
    "import matplotlib\n",
    "%matplotlib inline"
   ]
  },
  {
   "cell_type": "code",
   "execution_count": 3,
   "metadata": {
    "collapsed": true
   },
   "outputs": [],
   "source": [
    "from __future__ import print_function"
   ]
  },
  {
   "cell_type": "code",
   "execution_count": 4,
   "metadata": {
    "collapsed": true
   },
   "outputs": [],
   "source": [
    "from sklearn.cluster import KMeans\n",
    "import pandas as pd\n",
    "import numpy as np"
   ]
  },
  {
   "cell_type": "code",
   "execution_count": 5,
   "metadata": {
    "collapsed": false
   },
   "outputs": [],
   "source": [
    "# %load assignment1.py\n",
    "#\n",
    "# TOOD: Import whatever needs to be imported to make this work\n",
    "#\n",
    "# .. your code here ..\n",
    "\n",
    "\n",
    "matplotlib.style.use('ggplot') # Look Pretty"
   ]
  },
  {
   "cell_type": "code",
   "execution_count": 6,
   "metadata": {
    "collapsed": false
   },
   "outputs": [],
   "source": [
    "#\n",
    "# TODO: To procure the dataset, follow these steps:\n",
    "# 1. Navigate to: https://data.cityofchicago.org/Public-Safety/Crimes-2001-to-present/ijzp-q8t2\n",
    "# 2. In the 'Primary Type' column, click on the 'Menu' button next to the info button,\n",
    "#    and select 'Filter This Column'. It might take a second for the filter option to\n",
    "#    show up, since it has to load the entire list first.\n",
    "# 3. Scroll down to 'GAMBLING'\n",
    "# 4. Click the light blue 'Export' button next to the 'Filter' button, and select 'Download As CSV'\n",
    "\n",
    "def doKMeans(df):\n",
    "    #\n",
    "    # INFO: Plot your data with a '.' marker, with 0.3 alpha at the Longitude,\n",
    "    # and Latitude locations in your dataset. Longitude = x, Latitude = y\n",
    "    fig = plt.figure()\n",
    "    ax = fig.add_subplot(111)\n",
    "    ax.scatter(df.Longitude, df.Latitude, marker='.', alpha=0.3)\n",
    "\n",
    "    #\n",
    "    # TODO: Filter df so that you're only looking at Longitude and Latitude,\n",
    "    # since the remaining columns aren't really applicable for this purpose.\n",
    "    #\n",
    "    # .. your code here ..\n",
    "    longlat = df[['Longitude','Latitude']]\n",
    "    #\n",
    "    # TODO: Use K-Means to try and find seven cluster centers in this df.\n",
    "    #\n",
    "    # .. your code here ..\n",
    "    kmeans_model = KMeans(n_clusters=7)\n",
    "    kmeans_model.fit(longlat)\n",
    "    print (\"kmeans_model intertia_ = {}\".format(kmeans_model.inertia_))\n",
    "    #\n",
    "    # INFO: Print and plot the centroids...\n",
    "    centroids = kmeans_model.cluster_centers_\n",
    "    print (\"Centroids: {}\".format(centroids))\n",
    "    ax.scatter(centroids[:,0], centroids[:,1], marker='x', c='red', alpha=0.5, linewidths=3, s=169)\n",
    "    print (centroids)"
   ]
  },
  {
   "cell_type": "code",
   "execution_count": 7,
   "metadata": {
    "collapsed": false
   },
   "outputs": [],
   "source": [
    "#\n",
    "# TODO: Load your dataset after importing Pandas\n",
    "#\n",
    "# .. your code here ..\n",
    "#\n",
    "# Read my fixed-up version\n",
    "# crime = pd.read_csv('Datasets/Crimes_-_2001_to_present.csv.crdownload')\n",
    "crime = pd.read_csv('Datasets/ChicagoGamblingCrimes.csv')"
   ]
  },
  {
   "cell_type": "code",
   "execution_count": 8,
   "metadata": {
    "collapsed": false
   },
   "outputs": [
    {
     "data": {
      "text/plain": [
       "(13990, 22)"
      ]
     },
     "execution_count": 8,
     "metadata": {},
     "output_type": "execute_result"
    }
   ],
   "source": [
    "crime.shape"
   ]
  },
  {
   "cell_type": "code",
   "execution_count": 9,
   "metadata": {
    "collapsed": false
   },
   "outputs": [],
   "source": [
    "#\n",
    "# TODO: Drop any ROWs with nans in them\n",
    "#\n",
    "# .. your code here ..\n",
    "#\n",
    "# Read my fixed up version with datetime\n",
    "\n",
    "# crime = crime.dropna(axis=0)\n",
    "crime = crime.dropna(axis=0)"
   ]
  },
  {
   "cell_type": "code",
   "execution_count": 10,
   "metadata": {
    "collapsed": false
   },
   "outputs": [
    {
     "data": {
      "text/plain": [
       "(12776, 22)"
      ]
     },
     "execution_count": 10,
     "metadata": {},
     "output_type": "execute_result"
    }
   ],
   "source": [
    "crime.shape"
   ]
  },
  {
   "cell_type": "code",
   "execution_count": 11,
   "metadata": {
    "collapsed": false
   },
   "outputs": [
    {
     "data": {
      "text/html": [
       "<div>\n",
       "<table border=\"1\" class=\"dataframe\">\n",
       "  <thead>\n",
       "    <tr style=\"text-align: right;\">\n",
       "      <th></th>\n",
       "      <th>Column</th>\n",
       "      <th>Type</th>\n",
       "    </tr>\n",
       "  </thead>\n",
       "  <tbody>\n",
       "    <tr>\n",
       "      <th>0</th>\n",
       "      <td>ID</td>\n",
       "      <td>int64</td>\n",
       "    </tr>\n",
       "    <tr>\n",
       "      <th>1</th>\n",
       "      <td>Case Number</td>\n",
       "      <td>object</td>\n",
       "    </tr>\n",
       "    <tr>\n",
       "      <th>2</th>\n",
       "      <td>Date</td>\n",
       "      <td>object</td>\n",
       "    </tr>\n",
       "    <tr>\n",
       "      <th>3</th>\n",
       "      <td>Block</td>\n",
       "      <td>object</td>\n",
       "    </tr>\n",
       "    <tr>\n",
       "      <th>4</th>\n",
       "      <td>IUCR</td>\n",
       "      <td>int64</td>\n",
       "    </tr>\n",
       "    <tr>\n",
       "      <th>5</th>\n",
       "      <td>Primary Type</td>\n",
       "      <td>object</td>\n",
       "    </tr>\n",
       "    <tr>\n",
       "      <th>6</th>\n",
       "      <td>Description</td>\n",
       "      <td>object</td>\n",
       "    </tr>\n",
       "    <tr>\n",
       "      <th>7</th>\n",
       "      <td>Location Description</td>\n",
       "      <td>object</td>\n",
       "    </tr>\n",
       "    <tr>\n",
       "      <th>8</th>\n",
       "      <td>Arrest</td>\n",
       "      <td>bool</td>\n",
       "    </tr>\n",
       "    <tr>\n",
       "      <th>9</th>\n",
       "      <td>Domestic</td>\n",
       "      <td>bool</td>\n",
       "    </tr>\n",
       "    <tr>\n",
       "      <th>10</th>\n",
       "      <td>Beat</td>\n",
       "      <td>int64</td>\n",
       "    </tr>\n",
       "    <tr>\n",
       "      <th>11</th>\n",
       "      <td>District</td>\n",
       "      <td>int64</td>\n",
       "    </tr>\n",
       "    <tr>\n",
       "      <th>12</th>\n",
       "      <td>Ward</td>\n",
       "      <td>float64</td>\n",
       "    </tr>\n",
       "    <tr>\n",
       "      <th>13</th>\n",
       "      <td>Community Area</td>\n",
       "      <td>float64</td>\n",
       "    </tr>\n",
       "    <tr>\n",
       "      <th>14</th>\n",
       "      <td>FBI Code</td>\n",
       "      <td>int64</td>\n",
       "    </tr>\n",
       "    <tr>\n",
       "      <th>15</th>\n",
       "      <td>X Coordinate</td>\n",
       "      <td>float64</td>\n",
       "    </tr>\n",
       "    <tr>\n",
       "      <th>16</th>\n",
       "      <td>Y Coordinate</td>\n",
       "      <td>float64</td>\n",
       "    </tr>\n",
       "    <tr>\n",
       "      <th>17</th>\n",
       "      <td>Year</td>\n",
       "      <td>int64</td>\n",
       "    </tr>\n",
       "    <tr>\n",
       "      <th>18</th>\n",
       "      <td>Updated On</td>\n",
       "      <td>object</td>\n",
       "    </tr>\n",
       "    <tr>\n",
       "      <th>19</th>\n",
       "      <td>Latitude</td>\n",
       "      <td>float64</td>\n",
       "    </tr>\n",
       "    <tr>\n",
       "      <th>20</th>\n",
       "      <td>Longitude</td>\n",
       "      <td>float64</td>\n",
       "    </tr>\n",
       "    <tr>\n",
       "      <th>21</th>\n",
       "      <td>Location</td>\n",
       "      <td>object</td>\n",
       "    </tr>\n",
       "  </tbody>\n",
       "</table>\n",
       "</div>"
      ],
      "text/plain": [
       "                  Column     Type\n",
       "0                     ID    int64\n",
       "1            Case Number   object\n",
       "2                   Date   object\n",
       "3                  Block   object\n",
       "4                   IUCR    int64\n",
       "5           Primary Type   object\n",
       "6            Description   object\n",
       "7   Location Description   object\n",
       "8                 Arrest     bool\n",
       "9               Domestic     bool\n",
       "10                  Beat    int64\n",
       "11              District    int64\n",
       "12                  Ward  float64\n",
       "13        Community Area  float64\n",
       "14              FBI Code    int64\n",
       "15          X Coordinate  float64\n",
       "16          Y Coordinate  float64\n",
       "17                  Year    int64\n",
       "18            Updated On   object\n",
       "19              Latitude  float64\n",
       "20             Longitude  float64\n",
       "21              Location   object"
      ]
     },
     "execution_count": 11,
     "metadata": {},
     "output_type": "execute_result"
    }
   ],
   "source": [
    "#\n",
    "# TODO: Print out the dtypes of your dset\n",
    "#\n",
    "# .. your code here ..\n",
    "col_types = pd.DataFrame({'Column':crime.columns.tolist(), 'Type':[crime[c].dtype for c in crime.columns]})\n",
    "col_types"
   ]
  },
  {
   "cell_type": "code",
   "execution_count": 12,
   "metadata": {
    "collapsed": false
   },
   "outputs": [
    {
     "data": {
      "text/plain": [
       "'02/09/2006 10:29:07 PM'"
      ]
     },
     "execution_count": 12,
     "metadata": {},
     "output_type": "execute_result"
    }
   ],
   "source": [
    "#\n",
    "# Coerce the 'Date' feature (which is currently a string object) into real date,\n",
    "# and confirm by re-printing the dtypes. NOTE: This is a slow process...\n",
    "#\n",
    "# .. your code here ..\n",
    "crime.loc[0,'Date']"
   ]
  },
  {
   "cell_type": "code",
   "execution_count": 13,
   "metadata": {
    "collapsed": false
   },
   "outputs": [
    {
     "data": {
      "text/plain": [
       "Timestamp('2004-01-14 22:00:00')"
      ]
     },
     "execution_count": 13,
     "metadata": {},
     "output_type": "execute_result"
    }
   ],
   "source": [
    "pd.to_datetime('01/14/2004 10:00:00 PM', format=\"%m/%d/%Y %I:%M:%S %p\")"
   ]
  },
  {
   "cell_type": "markdown",
   "metadata": {},
   "source": [
    "### NOTE: Use `%I` for hour instead of `%H` so that the `%p` for AM/PM will convert hour to 24-hour form\n"
   ]
  },
  {
   "cell_type": "code",
   "execution_count": 14,
   "metadata": {
    "collapsed": false
   },
   "outputs": [
    {
     "data": {
      "text/plain": [
       "dtype('<M8[ns]')"
      ]
     },
     "execution_count": 14,
     "metadata": {},
     "output_type": "execute_result"
    }
   ],
   "source": [
    "crime.Date = pd.to_datetime(crime.Date, format=\"%m/%d/%Y %I:%M:%S %p\")\n",
    "crime.Date.dtype"
   ]
  },
  {
   "cell_type": "code",
   "execution_count": 15,
   "metadata": {
    "collapsed": true
   },
   "outputs": [],
   "source": [
    "# crime.to_csv('crime_with_datetime.csv', index=False)"
   ]
  },
  {
   "cell_type": "code",
   "execution_count": 16,
   "metadata": {
    "collapsed": false
   },
   "outputs": [
    {
     "data": {
      "text/html": [
       "<div>\n",
       "<table border=\"1\" class=\"dataframe\">\n",
       "  <thead>\n",
       "    <tr style=\"text-align: right;\">\n",
       "      <th></th>\n",
       "      <th>ID</th>\n",
       "      <th>Case Number</th>\n",
       "      <th>Date</th>\n",
       "      <th>Block</th>\n",
       "      <th>IUCR</th>\n",
       "      <th>Primary Type</th>\n",
       "      <th>Description</th>\n",
       "      <th>Location Description</th>\n",
       "      <th>Arrest</th>\n",
       "      <th>Domestic</th>\n",
       "      <th>...</th>\n",
       "      <th>Ward</th>\n",
       "      <th>Community Area</th>\n",
       "      <th>FBI Code</th>\n",
       "      <th>X Coordinate</th>\n",
       "      <th>Y Coordinate</th>\n",
       "      <th>Year</th>\n",
       "      <th>Updated On</th>\n",
       "      <th>Latitude</th>\n",
       "      <th>Longitude</th>\n",
       "      <th>Location</th>\n",
       "    </tr>\n",
       "  </thead>\n",
       "  <tbody>\n",
       "    <tr>\n",
       "      <th>0</th>\n",
       "      <td>4647776</td>\n",
       "      <td>HM172874</td>\n",
       "      <td>2006-02-09 22:29:07</td>\n",
       "      <td>075XX S COLFAX AVE</td>\n",
       "      <td>1661</td>\n",
       "      <td>GAMBLING</td>\n",
       "      <td>GAME/DICE</td>\n",
       "      <td>SIDEWALK</td>\n",
       "      <td>True</td>\n",
       "      <td>False</td>\n",
       "      <td>...</td>\n",
       "      <td>7.0</td>\n",
       "      <td>43.0</td>\n",
       "      <td>19</td>\n",
       "      <td>1194833.0</td>\n",
       "      <td>1855572.0</td>\n",
       "      <td>2006</td>\n",
       "      <td>04/15/2016 08:55:02 AM</td>\n",
       "      <td>41.758607</td>\n",
       "      <td>-87.561511</td>\n",
       "      <td>(41.758607126, -87.561510616)</td>\n",
       "    </tr>\n",
       "    <tr>\n",
       "      <th>1</th>\n",
       "      <td>4649196</td>\n",
       "      <td>HM157167</td>\n",
       "      <td>2006-02-01 12:30:27</td>\n",
       "      <td>038XX W FERDINAND ST</td>\n",
       "      <td>1661</td>\n",
       "      <td>GAMBLING</td>\n",
       "      <td>GAME/DICE</td>\n",
       "      <td>SIDEWALK</td>\n",
       "      <td>True</td>\n",
       "      <td>False</td>\n",
       "      <td>...</td>\n",
       "      <td>27.0</td>\n",
       "      <td>23.0</td>\n",
       "      <td>19</td>\n",
       "      <td>1150871.0</td>\n",
       "      <td>1903067.0</td>\n",
       "      <td>2006</td>\n",
       "      <td>04/15/2016 08:55:02 AM</td>\n",
       "      <td>41.889909</td>\n",
       "      <td>-87.721389</td>\n",
       "      <td>(41.889909247, -87.721389051)</td>\n",
       "    </tr>\n",
       "    <tr>\n",
       "      <th>2</th>\n",
       "      <td>4649661</td>\n",
       "      <td>HM159623</td>\n",
       "      <td>2006-02-02 19:02:12</td>\n",
       "      <td>050XX W SUPERIOR ST</td>\n",
       "      <td>1661</td>\n",
       "      <td>GAMBLING</td>\n",
       "      <td>GAME/DICE</td>\n",
       "      <td>SIDEWALK</td>\n",
       "      <td>True</td>\n",
       "      <td>False</td>\n",
       "      <td>...</td>\n",
       "      <td>28.0</td>\n",
       "      <td>25.0</td>\n",
       "      <td>19</td>\n",
       "      <td>1142605.0</td>\n",
       "      <td>1904502.0</td>\n",
       "      <td>2006</td>\n",
       "      <td>04/15/2016 08:55:02 AM</td>\n",
       "      <td>41.894005</td>\n",
       "      <td>-87.751710</td>\n",
       "      <td>(41.89400481, -87.751710086)</td>\n",
       "    </tr>\n",
       "    <tr>\n",
       "      <th>3</th>\n",
       "      <td>4650448</td>\n",
       "      <td>HM158020</td>\n",
       "      <td>2006-02-01 20:13:00</td>\n",
       "      <td>056XX W WASHINGTON BLVD</td>\n",
       "      <td>1661</td>\n",
       "      <td>GAMBLING</td>\n",
       "      <td>GAME/DICE</td>\n",
       "      <td>RESIDENCE PORCH/HALLWAY</td>\n",
       "      <td>True</td>\n",
       "      <td>False</td>\n",
       "      <td>...</td>\n",
       "      <td>29.0</td>\n",
       "      <td>25.0</td>\n",
       "      <td>19</td>\n",
       "      <td>1138430.0</td>\n",
       "      <td>1900175.0</td>\n",
       "      <td>2006</td>\n",
       "      <td>04/15/2016 08:55:02 AM</td>\n",
       "      <td>41.882208</td>\n",
       "      <td>-87.767149</td>\n",
       "      <td>(41.882207608, -87.767148598)</td>\n",
       "    </tr>\n",
       "    <tr>\n",
       "      <th>4</th>\n",
       "      <td>4650940</td>\n",
       "      <td>HM156984</td>\n",
       "      <td>2006-02-01 10:10:00</td>\n",
       "      <td>015XX W 72ND ST</td>\n",
       "      <td>1661</td>\n",
       "      <td>GAMBLING</td>\n",
       "      <td>GAME/DICE</td>\n",
       "      <td>SIDEWALK</td>\n",
       "      <td>True</td>\n",
       "      <td>False</td>\n",
       "      <td>...</td>\n",
       "      <td>17.0</td>\n",
       "      <td>67.0</td>\n",
       "      <td>19</td>\n",
       "      <td>1167231.0</td>\n",
       "      <td>1856980.0</td>\n",
       "      <td>2006</td>\n",
       "      <td>04/15/2016 08:55:02 AM</td>\n",
       "      <td>41.763106</td>\n",
       "      <td>-87.662629</td>\n",
       "      <td>(41.763105901, -87.66262925)</td>\n",
       "    </tr>\n",
       "  </tbody>\n",
       "</table>\n",
       "<p>5 rows × 22 columns</p>\n",
       "</div>"
      ],
      "text/plain": [
       "        ID Case Number                Date                    Block  IUCR  \\\n",
       "0  4647776    HM172874 2006-02-09 22:29:07       075XX S COLFAX AVE  1661   \n",
       "1  4649196    HM157167 2006-02-01 12:30:27     038XX W FERDINAND ST  1661   \n",
       "2  4649661    HM159623 2006-02-02 19:02:12      050XX W SUPERIOR ST  1661   \n",
       "3  4650448    HM158020 2006-02-01 20:13:00  056XX W WASHINGTON BLVD  1661   \n",
       "4  4650940    HM156984 2006-02-01 10:10:00          015XX W 72ND ST  1661   \n",
       "\n",
       "  Primary Type Description     Location Description Arrest Domestic  \\\n",
       "0     GAMBLING   GAME/DICE                 SIDEWALK   True    False   \n",
       "1     GAMBLING   GAME/DICE                 SIDEWALK   True    False   \n",
       "2     GAMBLING   GAME/DICE                 SIDEWALK   True    False   \n",
       "3     GAMBLING   GAME/DICE  RESIDENCE PORCH/HALLWAY   True    False   \n",
       "4     GAMBLING   GAME/DICE                 SIDEWALK   True    False   \n",
       "\n",
       "               ...                Ward  Community Area  FBI Code  \\\n",
       "0              ...                 7.0            43.0        19   \n",
       "1              ...                27.0            23.0        19   \n",
       "2              ...                28.0            25.0        19   \n",
       "3              ...                29.0            25.0        19   \n",
       "4              ...                17.0            67.0        19   \n",
       "\n",
       "   X Coordinate  Y Coordinate  Year              Updated On   Latitude  \\\n",
       "0     1194833.0     1855572.0  2006  04/15/2016 08:55:02 AM  41.758607   \n",
       "1     1150871.0     1903067.0  2006  04/15/2016 08:55:02 AM  41.889909   \n",
       "2     1142605.0     1904502.0  2006  04/15/2016 08:55:02 AM  41.894005   \n",
       "3     1138430.0     1900175.0  2006  04/15/2016 08:55:02 AM  41.882208   \n",
       "4     1167231.0     1856980.0  2006  04/15/2016 08:55:02 AM  41.763106   \n",
       "\n",
       "   Longitude                       Location  \n",
       "0 -87.561511  (41.758607126, -87.561510616)  \n",
       "1 -87.721389  (41.889909247, -87.721389051)  \n",
       "2 -87.751710   (41.89400481, -87.751710086)  \n",
       "3 -87.767149  (41.882207608, -87.767148598)  \n",
       "4 -87.662629   (41.763105901, -87.66262925)  \n",
       "\n",
       "[5 rows x 22 columns]"
      ]
     },
     "execution_count": 16,
     "metadata": {},
     "output_type": "execute_result"
    }
   ],
   "source": [
    "crime.head()"
   ]
  },
  {
   "cell_type": "code",
   "execution_count": 17,
   "metadata": {
    "collapsed": false
   },
   "outputs": [
    {
     "name": "stdout",
     "output_type": "stream",
     "text": [
      "41.8300529862\n",
      "0.0742494415431\n",
      "-87.6799017054\n",
      "0.0581416843528\n"
     ]
    }
   ],
   "source": [
    "# Need to drop outliers\n",
    "lat_mean = crime.Latitude.mean()\n",
    "lat_std = crime.Latitude.std()\n",
    "long_mean = crime.Longitude.mean()\n",
    "long_std = crime.Longitude.std()\n",
    "print (lat_mean)\n",
    "print (lat_std)\n",
    "print (long_mean)\n",
    "print (long_std)"
   ]
  },
  {
   "cell_type": "code",
   "execution_count": 18,
   "metadata": {
    "collapsed": true
   },
   "outputs": [],
   "source": [
    "crime = crime[abs(crime.Longitude - long_mean) < 4*long_std]"
   ]
  },
  {
   "cell_type": "code",
   "execution_count": 19,
   "metadata": {
    "collapsed": false
   },
   "outputs": [
    {
     "data": {
      "text/plain": [
       "(12776, 22)"
      ]
     },
     "execution_count": 19,
     "metadata": {},
     "output_type": "execute_result"
    }
   ],
   "source": [
    "crime.shape"
   ]
  },
  {
   "cell_type": "code",
   "execution_count": 20,
   "metadata": {
    "collapsed": true
   },
   "outputs": [],
   "source": [
    "crime = crime[abs(crime.Latitude - lat_mean) < 4*lat_std]"
   ]
  },
  {
   "cell_type": "code",
   "execution_count": 21,
   "metadata": {
    "collapsed": false
   },
   "outputs": [
    {
     "data": {
      "text/plain": [
       "(12776, 22)"
      ]
     },
     "execution_count": 21,
     "metadata": {},
     "output_type": "execute_result"
    }
   ],
   "source": [
    "crime.shape"
   ]
  },
  {
   "cell_type": "code",
   "execution_count": 22,
   "metadata": {
    "collapsed": false
   },
   "outputs": [
    {
     "name": "stdout",
     "output_type": "stream",
     "text": [
      "kmeans_model intertia_ = 9.2355270483\n",
      "Centroids: [[-87.75691578  41.89345741]\n",
      " [-87.61938212  41.80288389]\n",
      " [-87.684885    41.98183762]\n",
      " [-87.58223785  41.75230099]\n",
      " [-87.70955546  41.87815241]\n",
      " [-87.63121002  41.69664674]\n",
      " [-87.6647847   41.77287251]]\n",
      "[[-87.75691578  41.89345741]\n",
      " [-87.61938212  41.80288389]\n",
      " [-87.684885    41.98183762]\n",
      " [-87.58223785  41.75230099]\n",
      " [-87.70955546  41.87815241]\n",
      " [-87.63121002  41.69664674]\n",
      " [-87.6647847   41.77287251]]\n"
     ]
    },
    {
     "data": {
      "image/png": "[encoded data removed]",
      "text/plain": [
       "<matplotlib.figure.Figure at 0x7fe6143e3290>"
      ]
     },
     "metadata": {},
     "output_type": "display_data"
    }
   ],
   "source": [
    "# INFO: Print & Plot your data\n",
    "doKMeans(crime)"
   ]
  },
  {
   "cell_type": "code",
   "execution_count": 23,
   "metadata": {
    "collapsed": false
   },
   "outputs": [],
   "source": [
    "#\n",
    "# TODO: Filter out the data so that it only contains samples that have\n",
    "# a Date > '2011-01-01', using indexing. Then, in a new figure, plot the\n",
    "# crime incidents, as well as a new K-Means run's centroids.\n",
    "#\n",
    "# .. your code here ..\n",
    "\n",
    "df = crime[crime.Date > pd.to_datetime('2011-01-01')]"
   ]
  },
  {
   "cell_type": "code",
   "execution_count": 24,
   "metadata": {
    "collapsed": false
   },
   "outputs": [
    {
     "data": {
      "text/plain": [
       "(2903, 22)"
      ]
     },
     "execution_count": 24,
     "metadata": {},
     "output_type": "execute_result"
    }
   ],
   "source": [
    "df.shape"
   ]
  },
  {
   "cell_type": "code",
   "execution_count": 25,
   "metadata": {
    "collapsed": false
   },
   "outputs": [
    {
     "name": "stdout",
     "output_type": "stream",
     "text": [
      "kmeans_model intertia_ = 1.5512382191\n",
      "Centroids: [[-87.66410862  41.77637403]\n",
      " [-87.75477678  41.89004741]\n",
      " [-87.68522419  41.98536496]\n",
      " [-87.6348694   41.70541264]\n",
      " [-87.71054325  41.87507812]\n",
      " [-87.5800812   41.75075911]\n",
      " [-87.61790418  41.79208136]]\n",
      "[[-87.66410862  41.77637403]\n",
      " [-87.75477678  41.89004741]\n",
      " [-87.68522419  41.98536496]\n",
      " [-87.6348694   41.70541264]\n",
      " [-87.71054325  41.87507812]\n",
      " [-87.5800812   41.75075911]\n",
      " [-87.61790418  41.79208136]]\n"
     ]
    },
    {
     "data": {
      "image/png": "[encoded data removed]",
      "text/plain": [
       "<matplotlib.figure.Figure at 0x7fe614494b10>"
      ]
     },
     "metadata": {},
     "output_type": "display_data"
    }
   ],
   "source": [
    "# INFO: Print & Plot your data\n",
    "doKMeans(df)\n",
    "plt.show()"
   ]
  },
  {
   "cell_type": "code",
   "execution_count": null,
   "metadata": {
    "collapsed": true
   },
   "outputs": [],
   "source": []
  }
 ],
 "metadata": {
  "kernelspec": {
   "display_name": "Python 2",
   "language": "python",
   "name": "python2"
  },
  "language_info": {
   "codemirror_mode": {
    "name": "ipython",
    "version": 2
   },
   "file_extension": ".py",
   "mimetype": "text/x-python",
   "name": "python",
   "nbconvert_exporter": "python",
   "pygments_lexer": "ipython2",
   "version": "2.7.11"
  }
 },
 "nbformat": 4,
 "nbformat_minor": 0
}
