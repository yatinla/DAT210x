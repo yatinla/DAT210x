{
 "cells": [
  {
   "cell_type": "code",
   "execution_count": 6,
   "metadata": {
    "collapsed": true
   },
   "outputs": [],
   "source": [
    "import matplotlib.pyplot as plt\n",
    "import matplotlib\n",
    "%matplotlib inline"
   ]
  },
  {
   "cell_type": "code",
   "execution_count": 18,
   "metadata": {
    "collapsed": true
   },
   "outputs": [],
   "source": [
    "from __future__ import print_function"
   ]
  },
  {
   "cell_type": "code",
   "execution_count": 4,
   "metadata": {
    "collapsed": true
   },
   "outputs": [],
   "source": [
    "from sklearn.cluster import KMeans\n",
    "import pandas as pd\n",
    "import numpy as np"
   ]
  },
  {
   "cell_type": "code",
   "execution_count": 7,
   "metadata": {
    "collapsed": false
   },
   "outputs": [],
   "source": [
    "# %load assignment1.py\n",
    "#\n",
    "# TOOD: Import whatever needs to be imported to make this work\n",
    "#\n",
    "# .. your code here ..\n",
    "\n",
    "\n",
    "matplotlib.style.use('ggplot') # Look Pretty"
   ]
  },
  {
   "cell_type": "code",
   "execution_count": 43,
   "metadata": {
    "collapsed": false
   },
   "outputs": [],
   "source": [
    "#\n",
    "# TODO: To procure the dataset, follow these steps:\n",
    "# 1. Navigate to: https://data.cityofchicago.org/Public-Safety/Crimes-2001-to-present/ijzp-q8t2\n",
    "# 2. In the 'Primary Type' column, click on the 'Menu' button next to the info button,\n",
    "#    and select 'Filter This Column'. It might take a second for the filter option to\n",
    "#    show up, since it has to load the entire list first.\n",
    "# 3. Scroll down to 'GAMBLING'\n",
    "# 4. Click the light blue 'Export' button next to the 'Filter' button, and select 'Download As CSV'\n",
    "\n",
    "def doKMeans(df):\n",
    "    #\n",
    "    # INFO: Plot your data with a '.' marker, with 0.3 alpha at the Longitude,\n",
    "    # and Latitude locations in your dataset. Longitude = x, Latitude = y\n",
    "    fig = plt.figure()\n",
    "    ax = fig.add_subplot(111)\n",
    "    ax.scatter(df.Longitude, df.Latitude, marker='.', alpha=0.3)\n",
    "\n",
    "    #\n",
    "    # TODO: Filter df so that you're only looking at Longitude and Latitude,\n",
    "    # since the remaining columns aren't really applicable for this purpose.\n",
    "    #\n",
    "    # .. your code here ..\n",
    "    longlat = df[['Longitude','Latitude']]\n",
    "    #\n",
    "    # TODO: Use K-Means to try and find seven cluster centers in this df.\n",
    "    #\n",
    "    # .. your code here ..\n",
    "    kmeans_model = KMeans(n_clusters=7)\n",
    "    kmeans_model.fit(longlat)\n",
    "    #\n",
    "    # INFO: Print and plot the centroids...\n",
    "    centroids = kmeans_model.cluster_centers_\n",
    "    ax.scatter(centroids[:,0], centroids[:,1], marker='x', c='red', alpha=0.5, linewidths=3, s=169)\n",
    "    print (centroids)"
   ]
  },
  {
   "cell_type": "code",
   "execution_count": null,
   "metadata": {
    "collapsed": true
   },
   "outputs": [],
   "source": [
    "#\n",
    "# TODO: Load your dataset after importing Pandas\n",
    "#\n",
    "# .. your code here ..\n",
    "crime = pd.read_csv('Datasets/Crimes_-_2001_to_present.csv.crdownload')"
   ]
  },
  {
   "cell_type": "code",
   "execution_count": 9,
   "metadata": {
    "collapsed": false
   },
   "outputs": [
    {
     "data": {
      "text/plain": [
       "(683022, 22)"
      ]
     },
     "execution_count": 9,
     "metadata": {},
     "output_type": "execute_result"
    }
   ],
   "source": [
    "crime.shape"
   ]
  },
  {
   "cell_type": "code",
   "execution_count": 10,
   "metadata": {
    "collapsed": true
   },
   "outputs": [],
   "source": [
    "#\n",
    "# TODO: Drop any ROWs with nans in them\n",
    "#\n",
    "# .. your code here ..\n",
    "crime = crime.dropna(axis=0)"
   ]
  },
  {
   "cell_type": "code",
   "execution_count": 11,
   "metadata": {
    "collapsed": false
   },
   "outputs": [
    {
     "data": {
      "text/plain": [
       "(681811, 22)"
      ]
     },
     "execution_count": 11,
     "metadata": {},
     "output_type": "execute_result"
    }
   ],
   "source": [
    "crime.shape"
   ]
  },
  {
   "cell_type": "code",
   "execution_count": 27,
   "metadata": {
    "collapsed": false
   },
   "outputs": [
    {
     "data": {
      "text/html": [
       "<div>\n",
       "<table border=\"1\" class=\"dataframe\">\n",
       "  <thead>\n",
       "    <tr style=\"text-align: right;\">\n",
       "      <th></th>\n",
       "      <th>Column</th>\n",
       "      <th>Type</th>\n",
       "    </tr>\n",
       "  </thead>\n",
       "  <tbody>\n",
       "    <tr>\n",
       "      <th>0</th>\n",
       "      <td>ID</td>\n",
       "      <td>int64</td>\n",
       "    </tr>\n",
       "    <tr>\n",
       "      <th>1</th>\n",
       "      <td>Case Number</td>\n",
       "      <td>object</td>\n",
       "    </tr>\n",
       "    <tr>\n",
       "      <th>2</th>\n",
       "      <td>Date</td>\n",
       "      <td>object</td>\n",
       "    </tr>\n",
       "    <tr>\n",
       "      <th>3</th>\n",
       "      <td>Block</td>\n",
       "      <td>object</td>\n",
       "    </tr>\n",
       "    <tr>\n",
       "      <th>4</th>\n",
       "      <td>IUCR</td>\n",
       "      <td>object</td>\n",
       "    </tr>\n",
       "    <tr>\n",
       "      <th>5</th>\n",
       "      <td>Primary Type</td>\n",
       "      <td>object</td>\n",
       "    </tr>\n",
       "    <tr>\n",
       "      <th>6</th>\n",
       "      <td>Description</td>\n",
       "      <td>object</td>\n",
       "    </tr>\n",
       "    <tr>\n",
       "      <th>7</th>\n",
       "      <td>Location Description</td>\n",
       "      <td>object</td>\n",
       "    </tr>\n",
       "    <tr>\n",
       "      <th>8</th>\n",
       "      <td>Arrest</td>\n",
       "      <td>bool</td>\n",
       "    </tr>\n",
       "    <tr>\n",
       "      <th>9</th>\n",
       "      <td>Domestic</td>\n",
       "      <td>bool</td>\n",
       "    </tr>\n",
       "    <tr>\n",
       "      <th>10</th>\n",
       "      <td>Beat</td>\n",
       "      <td>int64</td>\n",
       "    </tr>\n",
       "    <tr>\n",
       "      <th>11</th>\n",
       "      <td>District</td>\n",
       "      <td>float64</td>\n",
       "    </tr>\n",
       "    <tr>\n",
       "      <th>12</th>\n",
       "      <td>Ward</td>\n",
       "      <td>float64</td>\n",
       "    </tr>\n",
       "    <tr>\n",
       "      <th>13</th>\n",
       "      <td>Community Area</td>\n",
       "      <td>float64</td>\n",
       "    </tr>\n",
       "    <tr>\n",
       "      <th>14</th>\n",
       "      <td>FBI Code</td>\n",
       "      <td>object</td>\n",
       "    </tr>\n",
       "    <tr>\n",
       "      <th>15</th>\n",
       "      <td>X Coordinate</td>\n",
       "      <td>float64</td>\n",
       "    </tr>\n",
       "    <tr>\n",
       "      <th>16</th>\n",
       "      <td>Y Coordinate</td>\n",
       "      <td>float64</td>\n",
       "    </tr>\n",
       "    <tr>\n",
       "      <th>17</th>\n",
       "      <td>Year</td>\n",
       "      <td>float64</td>\n",
       "    </tr>\n",
       "    <tr>\n",
       "      <th>18</th>\n",
       "      <td>Updated On</td>\n",
       "      <td>object</td>\n",
       "    </tr>\n",
       "    <tr>\n",
       "      <th>19</th>\n",
       "      <td>Latitude</td>\n",
       "      <td>float64</td>\n",
       "    </tr>\n",
       "    <tr>\n",
       "      <th>20</th>\n",
       "      <td>Longitude</td>\n",
       "      <td>float64</td>\n",
       "    </tr>\n",
       "    <tr>\n",
       "      <th>21</th>\n",
       "      <td>Location</td>\n",
       "      <td>object</td>\n",
       "    </tr>\n",
       "  </tbody>\n",
       "</table>\n",
       "</div>"
      ],
      "text/plain": [
       "                  Column     Type\n",
       "0                     ID    int64\n",
       "1            Case Number   object\n",
       "2                   Date   object\n",
       "3                  Block   object\n",
       "4                   IUCR   object\n",
       "5           Primary Type   object\n",
       "6            Description   object\n",
       "7   Location Description   object\n",
       "8                 Arrest     bool\n",
       "9               Domestic     bool\n",
       "10                  Beat    int64\n",
       "11              District  float64\n",
       "12                  Ward  float64\n",
       "13        Community Area  float64\n",
       "14              FBI Code   object\n",
       "15          X Coordinate  float64\n",
       "16          Y Coordinate  float64\n",
       "17                  Year  float64\n",
       "18            Updated On   object\n",
       "19              Latitude  float64\n",
       "20             Longitude  float64\n",
       "21              Location   object"
      ]
     },
     "execution_count": 27,
     "metadata": {},
     "output_type": "execute_result"
    }
   ],
   "source": [
    "#\n",
    "# TODO: Print out the dtypes of your dset\n",
    "#\n",
    "# .. your code here ..\n",
    "col_types = pd.DataFrame({'Column':crime.columns.tolist(), 'Type':[crime[c].dtype for c in crime.columns]})\n",
    "col_types"
   ]
  },
  {
   "cell_type": "code",
   "execution_count": 30,
   "metadata": {
    "collapsed": false
   },
   "outputs": [
    {
     "data": {
      "text/plain": [
       "'01/14/2004 10:00:00 PM'"
      ]
     },
     "execution_count": 30,
     "metadata": {},
     "output_type": "execute_result"
    }
   ],
   "source": [
    "#\n",
    "# Coerce the 'Date' feature (which is currently a string object) into real date,\n",
    "# and confirm by re-printing the dtypes. NOTE: This is a slow process...\n",
    "#\n",
    "# .. your code here ..\n",
    "crime.loc[0,'Date']"
   ]
  },
  {
   "cell_type": "code",
   "execution_count": 37,
   "metadata": {
    "collapsed": false
   },
   "outputs": [
    {
     "data": {
      "text/plain": [
       "dtype('<M8[ns]')"
      ]
     },
     "execution_count": 37,
     "metadata": {},
     "output_type": "execute_result"
    }
   ],
   "source": [
    "crime.Date = pd.to_datetime(crime.Date)\n",
    "crime.Date.dtype"
   ]
  },
  {
   "cell_type": "code",
   "execution_count": 40,
   "metadata": {
    "collapsed": false
   },
   "outputs": [
    {
     "data": {
      "text/html": [
       "<div>\n",
       "<table border=\"1\" class=\"dataframe\">\n",
       "  <thead>\n",
       "    <tr style=\"text-align: right;\">\n",
       "      <th></th>\n",
       "      <th>ID</th>\n",
       "      <th>Case Number</th>\n",
       "      <th>Date</th>\n",
       "      <th>Block</th>\n",
       "      <th>IUCR</th>\n",
       "      <th>Primary Type</th>\n",
       "      <th>Description</th>\n",
       "      <th>Location Description</th>\n",
       "      <th>Arrest</th>\n",
       "      <th>Domestic</th>\n",
       "      <th>...</th>\n",
       "      <th>Ward</th>\n",
       "      <th>Community Area</th>\n",
       "      <th>FBI Code</th>\n",
       "      <th>X Coordinate</th>\n",
       "      <th>Y Coordinate</th>\n",
       "      <th>Year</th>\n",
       "      <th>Updated On</th>\n",
       "      <th>Latitude</th>\n",
       "      <th>Longitude</th>\n",
       "      <th>Location</th>\n",
       "    </tr>\n",
       "  </thead>\n",
       "  <tbody>\n",
       "    <tr>\n",
       "      <th>0</th>\n",
       "      <td>3173759</td>\n",
       "      <td>HK125763</td>\n",
       "      <td>2004-01-14 22:00:00</td>\n",
       "      <td>008XX E 48TH ST</td>\n",
       "      <td>1811</td>\n",
       "      <td>NARCOTICS</td>\n",
       "      <td>POSS: CANNABIS 30GMS OR LESS</td>\n",
       "      <td>SIDEWALK</td>\n",
       "      <td>True</td>\n",
       "      <td>False</td>\n",
       "      <td>...</td>\n",
       "      <td>4.0</td>\n",
       "      <td>39.0</td>\n",
       "      <td>18</td>\n",
       "      <td>1182634.0</td>\n",
       "      <td>1873366.0</td>\n",
       "      <td>2004.0</td>\n",
       "      <td>04/15/2016 08:55:02 AM</td>\n",
       "      <td>41.807727</td>\n",
       "      <td>-87.605667</td>\n",
       "      <td>(41.807727117, -87.605666575)</td>\n",
       "    </tr>\n",
       "    <tr>\n",
       "      <th>1</th>\n",
       "      <td>3173760</td>\n",
       "      <td>HK171740</td>\n",
       "      <td>2004-02-08 01:00:00</td>\n",
       "      <td>079XX S KIRKLAND AVE</td>\n",
       "      <td>0820</td>\n",
       "      <td>THEFT</td>\n",
       "      <td>$500 AND UNDER</td>\n",
       "      <td>STREET</td>\n",
       "      <td>False</td>\n",
       "      <td>False</td>\n",
       "      <td>...</td>\n",
       "      <td>13.0</td>\n",
       "      <td>70.0</td>\n",
       "      <td>06</td>\n",
       "      <td>1148990.0</td>\n",
       "      <td>1851248.0</td>\n",
       "      <td>2004.0</td>\n",
       "      <td>04/15/2016 08:55:02 AM</td>\n",
       "      <td>41.747747</td>\n",
       "      <td>-87.729634</td>\n",
       "      <td>(41.747747145, -87.72963401)</td>\n",
       "    </tr>\n",
       "    <tr>\n",
       "      <th>2</th>\n",
       "      <td>3173761</td>\n",
       "      <td>HK174453</td>\n",
       "      <td>2004-02-09 22:30:00</td>\n",
       "      <td>032XX N LEAVITT ST</td>\n",
       "      <td>0460</td>\n",
       "      <td>BATTERY</td>\n",
       "      <td>SIMPLE</td>\n",
       "      <td>TAVERN/LIQUOR STORE</td>\n",
       "      <td>True</td>\n",
       "      <td>False</td>\n",
       "      <td>...</td>\n",
       "      <td>32.0</td>\n",
       "      <td>5.0</td>\n",
       "      <td>08B</td>\n",
       "      <td>1161129.0</td>\n",
       "      <td>1921326.0</td>\n",
       "      <td>2004.0</td>\n",
       "      <td>04/15/2016 08:55:02 AM</td>\n",
       "      <td>41.939806</td>\n",
       "      <td>-87.683209</td>\n",
       "      <td>(41.939806337, -87.683208757)</td>\n",
       "    </tr>\n",
       "    <tr>\n",
       "      <th>3</th>\n",
       "      <td>3173762</td>\n",
       "      <td>HK164280</td>\n",
       "      <td>2004-02-02 13:40:00</td>\n",
       "      <td>050XX S BLACKSTONE AVE</td>\n",
       "      <td>0460</td>\n",
       "      <td>BATTERY</td>\n",
       "      <td>SIMPLE</td>\n",
       "      <td>SCHOOL, PUBLIC, BUILDING</td>\n",
       "      <td>False</td>\n",
       "      <td>False</td>\n",
       "      <td>...</td>\n",
       "      <td>4.0</td>\n",
       "      <td>39.0</td>\n",
       "      <td>08B</td>\n",
       "      <td>1186774.0</td>\n",
       "      <td>1871922.0</td>\n",
       "      <td>2004.0</td>\n",
       "      <td>04/15/2016 08:55:02 AM</td>\n",
       "      <td>41.803667</td>\n",
       "      <td>-87.590528</td>\n",
       "      <td>(41.803667488, -87.590528166)</td>\n",
       "    </tr>\n",
       "    <tr>\n",
       "      <th>4</th>\n",
       "      <td>3173764</td>\n",
       "      <td>HK176766</td>\n",
       "      <td>2004-02-10 08:00:00</td>\n",
       "      <td>011XX W LAKE ST</td>\n",
       "      <td>0810</td>\n",
       "      <td>THEFT</td>\n",
       "      <td>OVER $500</td>\n",
       "      <td>STREET</td>\n",
       "      <td>False</td>\n",
       "      <td>False</td>\n",
       "      <td>...</td>\n",
       "      <td>27.0</td>\n",
       "      <td>28.0</td>\n",
       "      <td>06</td>\n",
       "      <td>1169024.0</td>\n",
       "      <td>1901611.0</td>\n",
       "      <td>2004.0</td>\n",
       "      <td>04/15/2016 08:55:02 AM</td>\n",
       "      <td>41.885539</td>\n",
       "      <td>-87.654766</td>\n",
       "      <td>(41.885539281, -87.654765611)</td>\n",
       "    </tr>\n",
       "  </tbody>\n",
       "</table>\n",
       "<p>5 rows × 22 columns</p>\n",
       "</div>"
      ],
      "text/plain": [
       "        ID Case Number                Date                   Block  IUCR  \\\n",
       "0  3173759    HK125763 2004-01-14 22:00:00         008XX E 48TH ST  1811   \n",
       "1  3173760    HK171740 2004-02-08 01:00:00    079XX S KIRKLAND AVE  0820   \n",
       "2  3173761    HK174453 2004-02-09 22:30:00      032XX N LEAVITT ST  0460   \n",
       "3  3173762    HK164280 2004-02-02 13:40:00  050XX S BLACKSTONE AVE  0460   \n",
       "4  3173764    HK176766 2004-02-10 08:00:00         011XX W LAKE ST  0810   \n",
       "\n",
       "  Primary Type                   Description      Location Description Arrest  \\\n",
       "0    NARCOTICS  POSS: CANNABIS 30GMS OR LESS                  SIDEWALK   True   \n",
       "1        THEFT                $500 AND UNDER                    STREET  False   \n",
       "2      BATTERY                        SIMPLE       TAVERN/LIQUOR STORE   True   \n",
       "3      BATTERY                        SIMPLE  SCHOOL, PUBLIC, BUILDING  False   \n",
       "4        THEFT                     OVER $500                    STREET  False   \n",
       "\n",
       "  Domestic              ...                Ward  Community Area  FBI Code  \\\n",
       "0    False              ...                 4.0            39.0        18   \n",
       "1    False              ...                13.0            70.0        06   \n",
       "2    False              ...                32.0             5.0       08B   \n",
       "3    False              ...                 4.0            39.0       08B   \n",
       "4    False              ...                27.0            28.0        06   \n",
       "\n",
       "   X Coordinate Y Coordinate    Year              Updated On   Latitude  \\\n",
       "0     1182634.0    1873366.0  2004.0  04/15/2016 08:55:02 AM  41.807727   \n",
       "1     1148990.0    1851248.0  2004.0  04/15/2016 08:55:02 AM  41.747747   \n",
       "2     1161129.0    1921326.0  2004.0  04/15/2016 08:55:02 AM  41.939806   \n",
       "3     1186774.0    1871922.0  2004.0  04/15/2016 08:55:02 AM  41.803667   \n",
       "4     1169024.0    1901611.0  2004.0  04/15/2016 08:55:02 AM  41.885539   \n",
       "\n",
       "   Longitude                       Location  \n",
       "0 -87.605667  (41.807727117, -87.605666575)  \n",
       "1 -87.729634   (41.747747145, -87.72963401)  \n",
       "2 -87.683209  (41.939806337, -87.683208757)  \n",
       "3 -87.590528  (41.803667488, -87.590528166)  \n",
       "4 -87.654766  (41.885539281, -87.654765611)  \n",
       "\n",
       "[5 rows x 22 columns]"
      ]
     },
     "execution_count": 40,
     "metadata": {},
     "output_type": "execute_result"
    }
   ],
   "source": [
    "crime.head()"
   ]
  },
  {
   "cell_type": "code",
   "execution_count": 44,
   "metadata": {
    "collapsed": false
   },
   "outputs": [
    {
     "name": "stdout",
     "output_type": "stream",
     "text": [
      "[[-87.63561782  41.70129277]\n",
      " [-87.64232112  41.87568003]\n",
      " [-87.68481158  41.78227734]\n",
      " [-87.77306039  41.94240216]\n",
      " [-87.5951853   41.76508056]\n",
      " [-87.7227915   41.88531354]\n",
      " [-87.67728495  41.96817643]]\n"
     ]
    },
    {
     "data": {
      "image/png": "[encoded data removed]",
      "text/plain": [
       "<matplotlib.figure.Figure at 0x7f69cf5de550>"
      ]
     },
     "metadata": {},
     "output_type": "display_data"
    }
   ],
   "source": [
    "# INFO: Print & Plot your data\n",
    "doKMeans(crime)"
   ]
  },
  {
   "cell_type": "code",
   "execution_count": 8,
   "metadata": {
    "collapsed": false
   },
   "outputs": [
    {
     "ename": "NameError",
     "evalue": "name 'doKMeans' is not defined",
     "output_type": "error",
     "traceback": [
      "\u001b[1;31m---------------------------------------------------------------------------\u001b[0m",
      "\u001b[1;31mNameError\u001b[0m                                 Traceback (most recent call last)",
      "\u001b[1;32m<ipython-input-8-75e6d16b69a6>\u001b[0m in \u001b[0;36m<module>\u001b[1;34m()\u001b[0m\n\u001b[0;32m     25\u001b[0m \u001b[1;33m\u001b[0m\u001b[0m\n\u001b[0;32m     26\u001b[0m \u001b[1;31m# INFO: Print & Plot your data\u001b[0m\u001b[1;33m\u001b[0m\u001b[1;33m\u001b[0m\u001b[0m\n\u001b[1;32m---> 27\u001b[1;33m \u001b[0mdoKMeans\u001b[0m\u001b[1;33m(\u001b[0m\u001b[0mdf\u001b[0m\u001b[1;33m)\u001b[0m\u001b[1;33m\u001b[0m\u001b[0m\n\u001b[0m\u001b[0;32m     28\u001b[0m \u001b[1;33m\u001b[0m\u001b[0m\n\u001b[0;32m     29\u001b[0m \u001b[1;33m\u001b[0m\u001b[0m\n",
      "\u001b[1;31mNameError\u001b[0m: name 'doKMeans' is not defined"
     ]
    }
   ],
   "source": [
    "#\n",
    "# TODO: Filter out the data so that it only contains samples that have\n",
    "# a Date > '2011-01-01', using indexing. Then, in a new figure, plot the\n",
    "# crime incidents, as well as a new K-Means run's centroids.\n",
    "#\n",
    "# .. your code here ..\n",
    "\n",
    "\n",
    "\n",
    "# INFO: Print & Plot your data\n",
    "doKMeans(df)\n",
    "plt.show()"
   ]
  },
  {
   "cell_type": "code",
   "execution_count": null,
   "metadata": {
    "collapsed": true
   },
   "outputs": [],
   "source": []
  },
  {
   "cell_type": "code",
   "execution_count": null,
   "metadata": {
    "collapsed": true
   },
   "outputs": [],
   "source": []
  }
 ],
 "metadata": {
  "kernelspec": {
   "display_name": "Python 2",
   "language": "python",
   "name": "python2"
  },
  "language_info": {
   "codemirror_mode": {
    "name": "ipython",
    "version": 2
   },
   "file_extension": ".py",
   "mimetype": "text/x-python",
   "name": "python",
   "nbconvert_exporter": "python",
   "pygments_lexer": "ipython2",
   "version": "2.7.11"
  }
 },
 "nbformat": 4,
 "nbformat_minor": 0
}
