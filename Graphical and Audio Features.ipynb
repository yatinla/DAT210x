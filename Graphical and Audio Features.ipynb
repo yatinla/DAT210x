{
 "cells": [
  {
   "cell_type": "markdown",
   "metadata": {},
   "source": [
    "## Graphical Features\n",
    "\n",
    "In addition to text and natural language processing, bag of words has successfully been applied to images by categorizing a collection of regions and describing only their appearance, but ignoring any spatial structure. However this is not the typical approach which is used, and requires you come up with methods of categorizing image regions. More frequently used methods include:\n",
    "\n",
    "1.  Split the image into a grid of smaller areas, and attempt feature extraction at each locality. Then return a combined array of all discovered features\n",
    "2.  Use variable-length gradients and other transformations as the features, such as regions of high / low luminosity, histogram counts for horizontal and vertical black pixels, stroke and edge detection, etc.\n",
    "3.  Resize the picture to a fixed size, convert it to grayscale, then encode every pixel as an element in a unidimensional feature array\n",
    "\n",
    "Let's explore how you might go about using the third method with code:"
   ]
  },
  {
   "cell_type": "code",
   "execution_count": null,
   "metadata": {
    "collapsed": true
   },
   "outputs": [],
   "source": [
    "# Uses the Image module (PIL)\n",
    "from scipy import misc\n",
    "\n",
    "# Load the image up\n",
    "img = misc.imread('DAT210x/Course Golden Ratio.png')"
   ]
  },
  {
   "cell_type": "code",
   "execution_count": 4,
   "metadata": {
    "collapsed": false
   },
   "outputs": [
    {
     "data": {
      "text/plain": [
       "(415, 640, 4)"
      ]
     },
     "execution_count": 4,
     "metadata": {},
     "output_type": "execute_result"
    }
   ],
   "source": [
    "img.shape"
   ]
  },
  {
   "cell_type": "markdown",
   "metadata": {},
   "source": [
    "> Below is an example of how handy using -1 as an argument to `reshape` can be!"
   ]
  },
  {
   "cell_type": "code",
   "execution_count": 7,
   "metadata": {
    "collapsed": false
   },
   "outputs": [],
   "source": [
    "# Is the image too big? Shrink it by an order of magnitude\n",
    "img = img[::2, ::2]\n",
    "\n",
    "# Scale colors from (0-255) to (0-1), then reshape to 1D Array\n",
    "X = (img / 255.0).reshape(-1, 4)\n",
    "\n",
    "# To-Do: Machine Learning with X!\n",
    "#"
   ]
  },
  {
   "cell_type": "code",
   "execution_count": 8,
   "metadata": {
    "collapsed": false
   },
   "outputs": [
    {
     "data": {
      "text/plain": [
       "(16640, 4)"
      ]
     },
     "execution_count": 8,
     "metadata": {},
     "output_type": "execute_result"
    }
   ],
   "source": [
    "X.shape"
   ]
  },
  {
   "cell_type": "markdown",
   "metadata": {},
   "source": [
    "## Audio Features\n",
    "\n",
    "Audio can be encoded with similar methods as graphical features, with the caveat that your 'audio-image' is already a one-dimensional waveform data type instead of a two-dimensional array of pixels. Rather than looking for graphical gradients, you would look for auditory ones, such as the length of sounds, power and noise ratios, and histogram counts after applying filters."
   ]
  },
  {
   "cell_type": "code",
   "execution_count": 15,
   "metadata": {
    "collapsed": false
   },
   "outputs": [
    {
     "name": "stdout",
     "output_type": "stream",
     "text": [
      "[[128 128]\n",
      " [128 128]\n",
      " [128 128]\n",
      " ..., \n",
      " [128 128]\n",
      " [128 128]\n",
      " [128 128]]\n"
     ]
    }
   ],
   "source": [
    "import scipy.io.wavfile as wavfile\n",
    "\n",
    "sample_rate, audio_data = wavfile.read('a2002011001-e02-ulaw.wav')\n",
    "print (audio_data)"
   ]
  },
  {
   "cell_type": "code",
   "execution_count": null,
   "metadata": {
    "collapsed": true
   },
   "outputs": [],
   "source": []
  }
 ],
 "metadata": {
  "kernelspec": {
   "display_name": "Python 3",
   "language": "python",
   "name": "python3"
  },
  "language_info": {
   "codemirror_mode": {
    "name": "ipython",
    "version": 3
   },
   "file_extension": ".py",
   "mimetype": "text/x-python",
   "name": "python",
   "nbconvert_exporter": "python",
   "pygments_lexer": "ipython3",
   "version": "3.5.1"
  }
 },
 "nbformat": 4,
 "nbformat_minor": 0
}
